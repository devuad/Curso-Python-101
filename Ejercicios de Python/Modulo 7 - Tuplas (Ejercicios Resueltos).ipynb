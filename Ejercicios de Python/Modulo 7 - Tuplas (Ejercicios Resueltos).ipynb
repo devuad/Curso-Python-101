{
 "cells": [
  {
   "cell_type": "markdown",
   "metadata": {},
   "source": [
    "### MÓDULO 7: TUPLAS."
   ]
  },
  {
   "cell_type": "markdown",
   "metadata": {},
   "source": [
    "-----"
   ]
  },
  {
   "cell_type": "markdown",
   "metadata": {},
   "source": [
    "### Consideraciones:\n",
    "\n",
    "\n",
    "1.  __Descripción por niveles:__\n",
    "\n",
    "    a). ```NIVEL 1``` o ```PRINCIPIANTE```: Implica un nivel de dificultad para quienes han apenas comenzado a introducirse con el curso de Python. Pudiendo resolver problemas con 1 o  2 clases o funciones.\n",
    "\n",
    "    b). ```NIVEL 2``` o ```INTERMEDIO```: Implica un nivel de dificultad para quienes apenas han aprendido programación en Python, pero que desde ya tienen un conocmiento previo en programación. El estudiante podrá ser capaz de resolver problemas que involucren 3 o más clases o funciones.\n",
    "\n",
    "    c). ```NIVEL 3``` o ```AVANZADO```: Implica un nivel de dificultad mayor, pudiendo el estudiante resolver los problemas con diferentes técnicas avanzadas y paquetes estandar de python.\n",
    "\n",
    "\n",
    "2. __Plantilla de Problemas__:\n",
    "\n",
    "    a). ```Pregunta```: Representará el enuciado principal con el problema a resolver utilizando Python. \n",
    "\n",
    "    b). ```Solución```: En el siguiente notebook podrás encontrar la solución al planteamiento de la pregunta para que puedas ayudarte a comparar resultados o encontrar una forma diferente de resolver la incognita.\n",
    "\n",
    "    c). ```Pistas:```: En algunos casos, dada la dificultad o solo con el fin de facilitar el desarrollo del ejercicio, se han entregado algunas pistas o formulas necesarias para llevar acabo los ejercicios.\n",
    "    \n",
    "    \n",
    "3. __Notas Importantes__:\n",
    "\n",
    "    a) ```Palabras Destacadas:``` En algunos casos, encontrarás ejercicios cuyo planteamiento cuenta con palabras destacadas como ```<n>``` o ```<c>``` que son utilizadas como variables en la solución del ejercicio, esto fue diseñado de este modo solo para brindarte una ```ayuda visual``` para ```comprender``` de mejor manera la ```solución del problema```. Si no te sientes comodo utilizando las mismas variables ```recuerda que puedes utilizar las tuyas propias``` para llegar al resultado final."
   ]
  },
  {
   "cell_type": "markdown",
   "metadata": {},
   "source": [
    "#### GUIA DE EJERCICIOS NIVEL 1"
   ]
  },
  {
   "cell_type": "markdown",
   "metadata": {},
   "source": [
    "__Ejercicio 1:__\n",
    "\n",
    "* Escriba un programa que solicite al usuario ingresar dos valores ```<x1>``` y ```<x2>``` para luego convertirlos en una  tupla ```tuple()``` y mostrarla en pantalla."
   ]
  },
  {
   "cell_type": "markdown",
   "metadata": {},
   "source": [
    "__Ejercicio 2:__\n",
    "\n",
    "* Corrija la siguiente lista ```<lista>``` y luego conviertala en una tupla ```<colores>```:\n",
    "~~~\n",
    "colores = [red, blue, green, yellow, black, violet, gray]\n",
    "~~~"
   ]
  },
  {
   "cell_type": "markdown",
   "metadata": {},
   "source": [
    "__Ejercicio 3:__\n",
    "\n",
    "* Continuando con  el ```Ejercicio 2```, Muestra en pantalla la ```cantidad``` de elementos de la tupla ```<colores>```."
   ]
  },
  {
   "cell_type": "markdown",
   "metadata": {},
   "source": [
    "__Ejercicio 4:__\n",
    "\n",
    "* Continuando con el ```Ejercicio 2```, muestra en pantalla el ```largo``` de caracteres del ```primer``` y ```segundo``` elemento de la tupla ```<colores>```."
   ]
  },
  {
   "cell_type": "markdown",
   "metadata": {},
   "source": [
    "__Ejercicio 5:__\n",
    "\n",
    "* Continuando con el ```Ejercicio 2```, muestra en pantalla los elementos de la tupla ```<colores>```comenzando por el ```tercero``` elemento hasta el ```último```."
   ]
  },
  {
   "cell_type": "markdown",
   "metadata": {},
   "source": [
    "__Ejercicio 6:__\n",
    "    \n",
    "* Continuando con el ```Ejercicio 2``` y utilizando ```dir()```, muestre en pantalla las diferentes funciones que nos permite utilizar una tupla ```<colores>```."
   ]
  },
  {
   "cell_type": "markdown",
   "metadata": {},
   "source": [
    "---"
   ]
  },
  {
   "cell_type": "markdown",
   "metadata": {},
   "source": [
    "#### GUIA DE EJERCICIOS NIVEL 2"
   ]
  },
  {
   "cell_type": "markdown",
   "metadata": {},
   "source": [
    "__Desarrolle:__\n",
    "\n",
    "* Basada en la siguiente ```tupla``` mostrada, realice los siguientes ejercicios:\n",
    "\n",
    "~~~\n",
    "T1 = ((\"españa\", \"chile\"), (\"america\", \"europa\"), \"Portugal\", \"Argentina\")\n",
    "~~~ "
   ]
  },
  {
   "cell_type": "markdown",
   "metadata": {},
   "source": [
    "__Ejercicio 1:__\n",
    "\n",
    "•\tMuestre en pantalla la ```cantidad``` de elementos almacenados en la ```tupla```."
   ]
  },
  {
   "cell_type": "markdown",
   "metadata": {},
   "source": [
    "__Ejercicio 2:__\n",
    "\n",
    "•\tMuestre en pantalla las palabras ```Europa``` y ```España``` utilizando los índices de la tupla."
   ]
  },
  {
   "cell_type": "markdown",
   "metadata": {},
   "source": [
    "__Ejercicio 3:__\n",
    "\n",
    "•\t```Convierta``` la tupla en una ```lista``` y ```agregue``` una nueva ```tupla``` con al menos ```tres``` diferentes países y muestrela en pantalla."
   ]
  },
  {
   "cell_type": "markdown",
   "metadata": {},
   "source": [
    "__Ejercicio 4:__\n",
    "\n",
    "•\t```Convierta``` la nueva ```lista``` formada a una ```tupla``` e imprima utilizando ```indices``` las palabras ```america```, ```méxico``` y ```chile```."
   ]
  }
 ],
 "metadata": {
  "kernelspec": {
   "display_name": "Python 3",
   "language": "python",
   "name": "python3"
  },
  "language_info": {
   "codemirror_mode": {
    "name": "ipython",
    "version": 3
   },
   "file_extension": ".py",
   "mimetype": "text/x-python",
   "name": "python",
   "nbconvert_exporter": "python",
   "pygments_lexer": "ipython3",
   "version": "3.7.3"
  }
 },
 "nbformat": 4,
 "nbformat_minor": 2
}
