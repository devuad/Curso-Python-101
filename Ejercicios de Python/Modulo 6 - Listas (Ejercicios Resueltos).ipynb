{
 "cells": [
  {
   "cell_type": "markdown",
   "metadata": {},
   "source": [
    "### MÓDULO 6: LISTAS."
   ]
  },
  {
   "cell_type": "markdown",
   "metadata": {},
   "source": [
    "-----"
   ]
  },
  {
   "cell_type": "markdown",
   "metadata": {},
   "source": [
    "### Consideraciones:\n",
    "\n",
    "\n",
    "1.  __Descripción por niveles:__\n",
    "\n",
    "    a). ```NIVEL 1``` o ```PRINCIPIANTE```: Implica un nivel de dificultad para quienes han apenas comenzado a introducirse con el curso de Python. Pudiendo resolver problemas con 1 o  2 clases o funciones.\n",
    "\n",
    "    b). ```NIVEL 2``` o ```INTERMEDIO```: Implica un nivel de dificultad para quienes apenas han aprendido programación en Python, pero que desde ya tienen un conocmiento previo en programación. El estudiante podrá ser capaz de resolver problemas que involucren 3 o más clases o funciones.\n",
    "\n",
    "    c). ```NIVEL 3``` o ```AVANZADO```: Implica un nivel de dificultad mayor, pudiendo el estudiante resolver los problemas con diferentes técnicas avanzadas y paquetes estandar de python.\n",
    "\n",
    "\n",
    "2. __Plantilla de Problemas__:\n",
    "\n",
    "    a). ```Pregunta```: Representará el enuciado principal con el problema a resolver utilizando Python. \n",
    "\n",
    "    b). ```Solución```: En el siguiente notebook podrás encontrar la solución al planteamiento de la pregunta para que puedas ayudarte a comparar resultados o encontrar una forma diferente de resolver la incognita.\n",
    "\n",
    "    c). ```Pistas:```: En algunos casos, dada la dificultad o solo con el fin de facilitar el desarrollo del ejercicio, se han entregado algunas pistas o formulas necesarias para llevar acabo los ejercicios.\n",
    "    \n",
    "    \n",
    "3. __Notas Importantes__:\n",
    "\n",
    "    a) ```Palabras Destacadas:``` En algunos casos, encontrarás ejercicios cuyo planteamiento cuenta con palabras destacadas como ```<n>``` o ```<c>``` que son utilizadas como variables en la solución del ejercicio, esto fue diseñado de este modo solo para brindarte una ```ayuda visual``` para ```comprender``` de mejor manera la ```solución del problema```. Si no te sientes comodo utilizando las mismas variables ```recuerda que puedes utilizar las tuyas propias``` para llegar al resultado final."
   ]
  },
  {
   "cell_type": "markdown",
   "metadata": {},
   "source": [
    "-----"
   ]
  },
  {
   "cell_type": "markdown",
   "metadata": {},
   "source": [
    "#### GUIA DE EJERCICIOS NIVEL 1"
   ]
  },
  {
   "cell_type": "markdown",
   "metadata": {},
   "source": [
    "__Desarrolle:__\n",
    "\n",
    "* Basada en la siguiente ```lista``` mostrada, realice los siguientes ejercicios:\n",
    "~~~\n",
    "Lista = [matemáticas, ciencias, ingles]\n",
    "~~~"
   ]
  },
  {
   "cell_type": "markdown",
   "metadata": {},
   "source": [
    "__Ejercicio 1:__\n",
    "\n",
    "* Escribe la lista de manera correcta, almacenala en una variable ```<asignaturas>``` e imprimela en pantalla ."
   ]
  },
  {
   "cell_type": "markdown",
   "metadata": {},
   "source": [
    "__Ejercicio 2:__\n",
    "\n",
    "* Indique el ```tipo``` de datos de la lista y del elemento contenido en su ```indice 1```.\n"
   ]
  },
  {
   "cell_type": "markdown",
   "metadata": {},
   "source": [
    "__Ejercicio 3:__\n",
    "\n",
    "* Escribe un algoritmo que muestre por pantalla el ```primer``` y ```último``` elemento de la lista."
   ]
  },
  {
   "cell_type": "markdown",
   "metadata": {},
   "source": [
    "__Ejercicio 4:__\n",
    "\n",
    "* Escribe un programa el ```segundo``` elemento de la lista ```<x>``` forme parte de la siguiente frase:  *Mi curso favorito en UAD es ```<x>```.*\n"
   ]
  },
  {
   "cell_type": "markdown",
   "metadata": {},
   "source": [
    "__Ejercicio 5:__\n",
    "\n",
    "* Escribe un algoritmo que permita ```agregar``` una nueva ```asignatura``` a la lista."
   ]
  },
  {
   "cell_type": "markdown",
   "metadata": {},
   "source": [
    "__Ejercicio 6:__\n",
    "\n",
    "* Escribe un algoritmo que elimine la asignatura ```<ingles>``` de la lista. "
   ]
  },
  {
   "cell_type": "markdown",
   "metadata": {},
   "source": [
    "-----"
   ]
  },
  {
   "cell_type": "markdown",
   "metadata": {},
   "source": [
    "#### GUIA DE EJERCICIOS NIVEL 2"
   ]
  },
  {
   "cell_type": "markdown",
   "metadata": {},
   "source": [
    "__Desarrolle:__\n",
    "\n",
    "* Basada en la siguiente ```lista``` mostrada, realice los siguientes ejercicios:\n",
    "~~~\n",
    "lista_1 = [enero, febrero, marso, abril, mayo, junio, julio]\n",
    "~~~"
   ]
  },
  {
   "cell_type": "markdown",
   "metadata": {},
   "source": [
    "__Ejercicio 1:__\n",
    "\n",
    "•\tAsigne la lista anterior a una variable y muestre en pantalla los ```últimos``` cuatro elementos de la lista."
   ]
  },
  {
   "cell_type": "markdown",
   "metadata": {},
   "source": [
    "__Ejercicio 2:__\n",
    "\n",
    "•\tSume el ```largo``` del ```primero``` y del ```último``` elemento de la lista."
   ]
  },
  {
   "cell_type": "markdown",
   "metadata": {},
   "source": [
    "__Ejercicio 3:__\n",
    "\n",
    "•\tAgregue a la lista los meses de ```Agosto``` y ```Septiembre``` a la lista."
   ]
  },
  {
   "cell_type": "markdown",
   "metadata": {},
   "source": [
    "__Ejercicio 4:__\n",
    "\n",
    "•\tReemplace el valor de ```Marso``` por ```Marzo```."
   ]
  },
  {
   "cell_type": "markdown",
   "metadata": {},
   "source": [
    "__Ejercicio 5:__\n",
    "\n",
    "•\tReemplace ```Enero``` por una ```lista``` de números del ```1``` al ```5```."
   ]
  },
  {
   "cell_type": "markdown",
   "metadata": {},
   "source": [
    "__Ejercicio 6:__\n",
    "\n",
    "•\tAgrega como una nueva lista ```<lista_2>``` los meses faltantes a nuestra lista principal ```<lista_1>``` e imprímela en pantalla: \n",
    "    \n",
    "~~~\n",
    "lista_2 = [ “Octubre”, “Noviembre”, “Diciembre”]\n",
    "~~~"
   ]
  },
  {
   "cell_type": "markdown",
   "metadata": {},
   "source": [
    "__Ejercicio 7:__\n",
    "\n",
    "•\tImprime en pantalla a través del ```índice``` de nuestra lista ```<lista_1>```, el mes de ```noviembre```."
   ]
  }
 ],
 "metadata": {
  "kernelspec": {
   "display_name": "Python 3",
   "language": "python",
   "name": "python3"
  },
  "language_info": {
   "codemirror_mode": {
    "name": "ipython",
    "version": 3
   },
   "file_extension": ".py",
   "mimetype": "text/x-python",
   "name": "python",
   "nbconvert_exporter": "python",
   "pygments_lexer": "ipython3",
   "version": "3.7.3"
  }
 },
 "nbformat": 4,
 "nbformat_minor": 2
}
