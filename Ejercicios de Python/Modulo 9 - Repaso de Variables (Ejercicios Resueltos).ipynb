{
 "cells": [
  {
   "cell_type": "markdown",
   "metadata": {},
   "source": [
    "### MÓDULO 9: REPASO DE CONTENIDO"
   ]
  },
  {
   "cell_type": "markdown",
   "metadata": {},
   "source": [
    "-----"
   ]
  },
  {
   "cell_type": "markdown",
   "metadata": {},
   "source": [
    "### Consideraciones:\n",
    "\n",
    "\n",
    "1.  __Descripción por niveles:__\n",
    "\n",
    "    a). ```NIVEL 1``` o ```PRINCIPIANTE```: Implica un nivel de dificultad para quienes han apenas comenzado a introducirse con el curso de Python. Pudiendo resolver problemas con 1 o  2 clases o funciones.\n",
    "\n",
    "    b). ```NIVEL 2``` o ```INTERMEDIO```: Implica un nivel de dificultad para quienes apenas han aprendido programación en Python, pero que desde ya tienen un conocmiento previo en programación. El estudiante podrá ser capaz de resolver problemas que involucren 3 o más clases o funciones.\n",
    "\n",
    "    c). ```NIVEL 3``` o ```AVANZADO```: Implica un nivel de dificultad mayor, pudiendo el estudiante resolver los problemas con diferentes técnicas avanzadas y paquetes estandar de python.\n",
    "\n",
    "\n",
    "2. __Plantilla de Problemas__:\n",
    "\n",
    "    a). ```Pregunta```: Representará el enuciado principal con el problema a resolver utilizando Python. \n",
    "\n",
    "    b). ```Solución```: En el siguiente notebook podrás encontrar la solución al planteamiento de la pregunta para que puedas ayudarte a comparar resultados o encontrar una forma diferente de resolver la incognita.\n",
    "\n",
    "    c). ```Pistas:```: En algunos casos, dada la dificultad o solo con el fin de facilitar el desarrollo del ejercicio, se han entregado algunas pistas o formulas necesarias para llevar acabo los ejercicios.\n",
    "    \n",
    "    \n",
    "3. __Notas Importantes__:\n",
    "\n",
    "    a) ```Palabras Destacadas:``` En algunos casos, encontrarás ejercicios cuyo planteamiento cuenta con palabras destacadas como ```<n>``` o ```<c>``` que son utilizadas como variables en la solución del ejercicio, esto fue diseñado de este modo solo para brindarte una ```ayuda visual``` para ```comprender``` de mejor manera la ```solución del problema```. Si no te sientes comodo utilizando las mismas variables ```recuerda que puedes utilizar las tuyas propias``` para llegar al resultado final."
   ]
  },
  {
   "cell_type": "markdown",
   "metadata": {},
   "source": [
    "#### GUIA DE EJERCICIOS NIVEL 1"
   ]
  },
  {
   "cell_type": "markdown",
   "metadata": {},
   "source": [
    "__Ejercicio 1:__\n",
    "\n",
    "* Escribe un programa que muestre en pantalla la ```diferencia``` de dos números ```<n1>``` y ```<n2>``` ingresados por el usuario "
   ]
  },
  {
   "cell_type": "markdown",
   "metadata": {},
   "source": [
    "__Ejercicio 2:__\n",
    "\n",
    "* Escribe un programa que muestre en pantalla el ```largo ``` de caracteres de la siguiente canción:\n",
    "\n",
    "> I found a love for me\n",
    "> <br>Darling, just dive right in\n",
    "> <br>And follow my lead\n",
    "> <br>Well, I found a girl, beautiful and sweet\n",
    "> <br>I never knew you were the someone waiting for me\n",
    "\n",
    "\n",
    "*__Nota__: Existen muchos metodos para realizar esto, utiliza el cual te acomode más.*"
   ]
  },
  {
   "cell_type": "markdown",
   "metadata": {},
   "source": [
    "__Ejercicio 3:__\n",
    "\n",
    "* Escribe un programa que permita ```encontrar``` un elemento especifico de la siguiente ```lista```:\n",
    "\n",
    "~~~\n",
    " lista = ['a', 'b', 'c', 'd', 'e', 'f', 'g', 'h', 'i', 'j', 'k', 'l', 'm', 'n']\n",
    "~~~ "
   ]
  },
  {
   "cell_type": "markdown",
   "metadata": {},
   "source": [
    "__Ejercicio 4:__\n",
    "\n",
    "~~~\n",
    "tupla = (-22, -16, -15, -9, -8, -7, -6, -2, 5, 11, 16, 17, 20, 23, 24, 18, -14, -12, -9, -4, 3, 6, 7, 9, 10, 11, 12, 13, 20, 23, -22, -19, -17, -16, -9, -8, -4, 3, 4, 6, 12, 14, 15, 18, 22, -24, -17, -16, -15, -10, -9, -8, -6, -1, 1, 6, 9, 17, 21, 23, -23, -21, -19, -16, -13, -11, -10, -9, -8, -1, 9, 10, 12, 19, 23)\n",
    "~~~\n",
    "\n",
    "* Basada en la anterior ```tupla```, muestre en pantalla la ```cantidad``` de números ```-9``` que existen almacenados.\n",
    "\n",
    "*__Nota:__ puedes utilizar ```dir()``` para ver funcionalidades extras utilizables con tuplas.*"
   ]
  },
  {
   "cell_type": "markdown",
   "metadata": {},
   "source": [
    "__Ejercicio 5:__\n",
    "\n",
    "* Escribe un programa que permita unir dos diccionarios de Python.\n",
    "\n",
    "*__Nota:__ puedes utilizar ```dir()``` para ver funcionalidades extras utilizables con diccionarios.*"
   ]
  },
  {
   "cell_type": "markdown",
   "metadata": {},
   "source": [
    "__Ejercicio 6:__\n",
    "\n",
    "* Utilizando ```format()```, imprime en pantalla la ```edad``` y ```nombre``` del usuario."
   ]
  },
  {
   "cell_type": "markdown",
   "metadata": {},
   "source": [
    "__Ejercicio 7:__\n",
    "\n",
    "* Utilizando ```format()```, imprime en pantalla ```4 números enteros ``` ingresados por el usuario comenzando desde el ```último``` hasta el ```primero ```."
   ]
  },
  {
   "cell_type": "markdown",
   "metadata": {},
   "source": [
    "__Ejercicio 8:__\n",
    "\n",
    "•\tEscribe un programa que permita al usuario ingresar un número entero ```<n>```, y luego crea una lista ```<l1>``` en rango desde el número ingresado ```<n>``` (incluido ```<n>```) hasta ```0```."
   ]
  },
  {
   "cell_type": "markdown",
   "metadata": {},
   "source": [
    "__Ejercicio 9:__\n",
    "\n",
    "•\tMuestra en pantalla el número de índice donde se encuentra el número más alto de la lista."
   ]
  },
  {
   "cell_type": "markdown",
   "metadata": {},
   "source": [
    "__Ejercicio 10:__\n",
    "\n",
    "•\tMuestra en pantalla el número de índice donde se encuentra el número más alto de la lista."
   ]
  }
 ],
 "metadata": {
  "kernelspec": {
   "display_name": "Python 3",
   "language": "python",
   "name": "python3"
  },
  "language_info": {
   "codemirror_mode": {
    "name": "ipython",
    "version": 3
   },
   "file_extension": ".py",
   "mimetype": "text/x-python",
   "name": "python",
   "nbconvert_exporter": "python",
   "pygments_lexer": "ipython3",
   "version": "3.7.3"
  }
 },
 "nbformat": 4,
 "nbformat_minor": 2
}
