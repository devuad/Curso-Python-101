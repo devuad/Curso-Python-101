{
 "cells": [
  {
   "cell_type": "markdown",
   "metadata": {},
   "source": [
    "### MÓDULO 12: FUNCIONES"
   ]
  },
  {
   "cell_type": "markdown",
   "metadata": {},
   "source": [
    "---"
   ]
  },
  {
   "cell_type": "markdown",
   "metadata": {},
   "source": [
    "### Consideraciones:\n",
    "\n",
    "\n",
    "1.  __Descripción por niveles:__\n",
    "\n",
    "    a). ```NIVEL 1``` o ```PRINCIPIANTE```: Implica un nivel de dificultad para quienes han apenas comenzado a introducirse con el curso de Python. Pudiendo resolver problemas con 1 o  2 clases o funciones.\n",
    "\n",
    "    b). ```NIVEL 2``` o ```INTERMEDIO```: Implica un nivel de dificultad para quienes apenas han aprendido programación en Python, pero que desde ya tienen un conocmiento previo en programación. El estudiante podrá ser capaz de resolver problemas que involucren 3 o más clases o funciones.\n",
    "\n",
    "    c). ```NIVEL 3``` o ```AVANZADO```: Implica un nivel de dificultad mayor, pudiendo el estudiante resolver los problemas con diferentes técnicas avanzadas y paquetes estandar de python.\n",
    "\n",
    "\n",
    "2. __Plantilla de Problemas__:\n",
    "\n",
    "    a). ```Pregunta```: Representará el enuciado principal con el problema a resolver utilizando Python. \n",
    "\n",
    "    b). ```Solución```: En el siguiente notebook podrás encontrar la solución al planteamiento de la pregunta para que puedas ayudarte a comparar resultados o encontrar una forma diferente de resolver la incognita.\n",
    "\n",
    "    c). ```Pistas:```: En algunos casos, dada la dificultad o solo con el fin de facilitar el desarrollo del ejercicio, se han entregado algunas pistas o formulas necesarias para llevar acabo los ejercicios.\n",
    "    \n",
    "    \n",
    "3. __Notas Importantes__:\n",
    "\n",
    "    a) ```Palabras Destacadas:``` En algunos casos, encontrarás ejercicios cuyo planteamiento cuenta con palabras destacadas como ```<n>``` o ```<c>``` que son utilizadas como variables en la solución del ejercicio, esto fue diseñado de este modo solo para brindarte una ```ayuda visual``` para ```comprender``` de mejor manera la ```solución del problema```. Si no te sientes comodo utilizando las mismas variables ```recuerda que puedes utilizar las tuyas propias``` para llegar al resultado final."
   ]
  },
  {
   "cell_type": "markdown",
   "metadata": {},
   "source": [
    "#### GUIA DE EJERCICIOS NIVEL 1"
   ]
  },
  {
   "cell_type": "markdown",
   "metadata": {},
   "source": [
    "__Ejercicio 1:__\n",
    "\n",
    "* Escribe una función llamada ```saludo()```, la cual solicite como parámetro una cadena ```<cadena>``` ingresada por el usuario y luego muestre en pantalla el siguiente mensaje: __```¡Bienvenido <cadena>!```__"
   ]
  },
  {
   "cell_type": "markdown",
   "metadata": {},
   "source": [
    "__Ejercicio 2:__\n",
    "\n",
    "* Definir una función ```generar_n_caracteres()``` que tome un número entero ```<n>``` y un caracter ```<c>```. Debe devolver el en pantalla el caracter multiplicado ```n``` veces. \n",
    "\n",
    "*Ejemplo:*\n",
    "~~~\n",
    "generar_n_caracteres(3, \"z\")\n",
    "> zzz\n",
    "~~~"
   ]
  },
  {
   "cell_type": "markdown",
   "metadata": {},
   "source": [
    "__Ejercicio 3:__\n",
    "\n",
    "* Escribe una función llamada ```sumatoria()```, que permita ingresar como parámetro dos números ```<n1>``` y ```<n2>```, e imprima en pantalla la suma de ambos.\n"
   ]
  },
  {
   "cell_type": "markdown",
   "metadata": {},
   "source": [
    "__Ejercicio 4:__\n",
    "\n",
    "* Escribe una función llamada ```cociente()```, que permita ingresar como parámetros dos números ```<n1>``` y ```<n2>```, e imprima en pantalla  resultado de de dividir ```n1``` con ```n2```, siempre y cuando el divisor sea distinto a ```0```.\n"
   ]
  },
  {
   "cell_type": "markdown",
   "metadata": {},
   "source": [
    "__Ejercicio 5:__\n",
    "\n",
    "* Escribe una función llamada ```area_rectangulo()```, que solicite los parámetros base ```<b>``` y altura ```<h>```, y devuelva como resultado el área del rectangulo ```<A>```. \n",
    "\n",
    "\n",
    "> *Formula:* <font size=\"4\">$A = {b}*{h}$</font>\n"
   ]
  },
  {
   "cell_type": "markdown",
   "metadata": {},
   "source": [
    "__Ejercicio 6:__\n",
    "\n",
    "* Escribe una función llamada ```area_circulo()```, que solicite el radio ```<r>``` y devuelva el valor del área del círculo ```<A>```. \n",
    "\n",
    "*Nota:* Utilizar __Pi__ como: __3,1416__\n",
    "\n",
    "*Formula:*\n",
    "<br> <font size=\"4\">$ A = \\pi{r}^{2} $</font>\n",
    "<br> <font size=\"4\">$ A = ({r}^{2}) * \\pi$</font>"
   ]
  },
  {
   "cell_type": "markdown",
   "metadata": {},
   "source": [
    "__Ejercicio 7:__\n",
    "\n",
    "* Escribe una función llamada ```media()``` la cual solicite como parámetro una lista de números ```<lista>``` y luego muestre en pantalla su media ```<media>```."
   ]
  },
  {
   "cell_type": "markdown",
   "metadata": {},
   "source": [
    "----"
   ]
  },
  {
   "cell_type": "markdown",
   "metadata": {},
   "source": [
    "#### GUIA DE EJERCICIOS NIVEL 2"
   ]
  },
  {
   "cell_type": "markdown",
   "metadata": {},
   "source": [
    "__Ejercicio 1:__\n",
    "\n",
    "•\tEscribe una función llamada ```activación()```, que solicite dos valores numéricos ```<n>``` y ```<u>```, el programa deberá devolver ```1``` si el valor de ```<n>``` es mayor ```<u>```, deberá devolver ```-1``` si el valor de ```<n>``` es menor a ```<u>``` o ```0``` si el valor de ```<n>``` es igual a ```<u>```."
   ]
  },
  {
   "cell_type": "markdown",
   "metadata": {},
   "source": [
    "__Ejercicio 2:__\n",
    "\n",
    "•\tEscribe una función llamada ```inversa ()```, que solicite al usuario ingresar una palabra ```<c>``` y luego imprima en pantalla su versión ```inversa```. \n",
    "\n",
    "__*Ejemplo:*__ __probando__ debería devolver la cadena __odnaborp__"
   ]
  },
  {
   "cell_type": "markdown",
   "metadata": {},
   "source": [
    "__Ejercicio 3:__\n",
    "\n",
    "•\tEscribe una función llamada ```es_palindromo()``` que solicite al usuario ingresar una cadena ```<c>``` e idenfique si es un ```palindromo```, mostrando en pantalla ```True``` en caso de serlo, o ```False``` si no lo es. \n",
    "\n",
    "*__Nota:__* Palindromos son palabras que tienen el mismo aspecto escritas invertidas. E\n",
    "\n",
    "*__Ejemplo:__* radar"
   ]
  },
  {
   "cell_type": "markdown",
   "metadata": {},
   "source": [
    "__Ejercicio 4:__\n",
    "\n",
    "•\tEscribe una función llamada ```binario()```, la cual muestre en pantalla la versión binaria de un número ```<n>``` ingresado por el usuario.\n",
    "\n",
    "*__Nota:__* Para convertir un número a binario debemos ir dividiendo el número decimal entre 2, e ir anotando el resto, (un 0 si el resultado de la división es par y un 1 si la división es impar). La lista de ceros y unos finalmente son leídos desde abajo a arriba (o de manera invertida a como los obtuvimos).\n",
    "\n",
    "*__Ejemplo:__*  <font size=\"3\">$ n = 156 $</font>\n",
    "\n",
    "---\n",
    "\n",
    "$ \\frac {156}{2} = 78  $ -&nbsp; __residuo:__ 0\n",
    "\n",
    "$ \\frac {78}{2} = 39  $ -&nbsp; __residuo:__ 0\n",
    "\n",
    "$ \\frac {39}{2} = 19  $ -&nbsp; __residuo:__ 1\n",
    "\n",
    "$ \\frac {19}{2} = 9  $ -&nbsp; __residuo:__ 1\n",
    "\n",
    "$ \\frac {9}{2} = 4  $ -&nbsp; __residuo:__ 1\n",
    "\n",
    "$ \\frac {4}{2} = 2  $ -&nbsp; __residuo:__ 0\n",
    "\n",
    "$ \\frac {2}{2} = 1  $ -&nbsp; __residuo:__ 0\n",
    "\n",
    "$ \\frac {1}{2} = 0  $ -&nbsp; __residuo:__ 1\n",
    "\n",
    "\n",
    "---\n",
    "<font size=\"3\"> Resultado Binario Final: __10011100__</font>"
   ]
  },
  {
   "cell_type": "markdown",
   "metadata": {},
   "source": [
    "*__Nota 1:__* Si no entiendes este ejemplo, te sugiero hacerlo con lapiz y papel simulando los ciclos de la función.\n",
    "\n",
    "*__Nota 2:__* Si no comprendes algunos parametros de este ejemplo, puedes jugar quitandolos para entender de mejor manera su funcionamiento."
   ]
  },
  {
   "cell_type": "markdown",
   "metadata": {},
   "source": [
    "__Ejercicio 5:__\n",
    "\n",
    "•\tEscribe una función llamada ```estadísticas()``` la cual reciba una lista de números ```<l>``` y muestre en pantalla en forma de diccionario <d> la media ```<m>```, la mediana ```<med>``` y la desviación estándar ```<o>```.\n",
    "    \n",
    "~~~ \n",
    "\n",
    "datos = [1,4,6,7,2,3,4,7,1,2,4,3,4,5,\n",
    "        6,5,2,3,1,2,5,6,7,3,4,1,5,7,\n",
    "        1,7,6,5,3,4,3,4,5,5,5,6,7,3,\n",
    "        4,5,3,4,5,4,5,6,3,4,3,4,5,3,\n",
    "        4,5,3,4,5,3,4,5,3,4,5,3,1,3,\n",
    "        4,5,3,4,5,6,5,4,6,5,6,5,1,7]\n",
    "\n",
    "~~~\n",
    "\n",
    "\n",
    "*__Nota 1:__* Para calcular la desvación estandar se debe calcular la raíz cuadrada de la varianza.\n",
    "\n",
    "\n",
    "*__Nota 2:__* La varianza dicho de un modo resumido, es la media de los residuos al cuadrado. Por lo cual podemos calcularla siguiendo estos pasos:\n",
    "\n",
    ">a) Calcular la suma de los datos.<br>\n",
    ">b) Calcular la media.<br>\n",
    ">c) Restar la media a cada uno de los datos.<br>\n",
    ">d) Elevar el cuadrado cada resultado. <br>\n",
    ">e) Sumar todos los resultados y sacar la media de esa sumatoria. <br>\n",
    "\n",
    "\n",
    "\n",
    "*__Formulas:__*\n",
    "* Desviación Estandar (σ): \n",
    "\n",
    "<font size='4'> $ σ = \\sqrt {σ^2} $ </font>\n",
    "\n",
    "---\n",
    "\n",
    "* Varianza: \n",
    "\n",
    "<font size='5'> $\\sigma^{2}$ = $\\frac{\\sum((x - \\bar{x})^{2})}{n-1}$ </font>"
   ]
  },
  {
   "cell_type": "markdown",
   "metadata": {},
   "source": [
    "__Ejercicio 6:__\n",
    "\n",
    "* Escribe una función llamada ```tiempo()``` la cual permita al usuario ingresar un valor en segundos```<s>``` inferior a ```1.000.000```, y que realice su conversión en ```días```, ```horas``` y ```minutos```. El programa debe ser capaz de detectar incongruencias (segundos negativos o iguales a 0, o bien texto ingresado sea diferente a un número)."
   ]
  }
 ],
 "metadata": {
  "kernelspec": {
   "display_name": "Python 3",
   "language": "python",
   "name": "python3"
  },
  "language_info": {
   "codemirror_mode": {
    "name": "ipython",
    "version": 3
   },
   "file_extension": ".py",
   "mimetype": "text/x-python",
   "name": "python",
   "nbconvert_exporter": "python",
   "pygments_lexer": "ipython3",
   "version": "3.7.3"
  }
 },
 "nbformat": 4,
 "nbformat_minor": 2
}
