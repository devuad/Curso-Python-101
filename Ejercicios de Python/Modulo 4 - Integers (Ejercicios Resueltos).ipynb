{
 "cells": [
  {
   "cell_type": "markdown",
   "metadata": {},
   "source": [
    "## MÓDULO 4: ENTEROS, REALES Y OPERACIONES ARITMÉTICAS,"
   ]
  },
  {
   "cell_type": "markdown",
   "metadata": {},
   "source": [
    "-----"
   ]
  },
  {
   "cell_type": "markdown",
   "metadata": {},
   "source": [
    "### Consideraciones:\n",
    "\n",
    "\n",
    "1.  __Descripción por niveles:__\n",
    "\n",
    "    a). ```NIVEL 1``` o ```PRINCIPIANTE```: Implica un nivel de dificultad para quienes han apenas comenzado a introducirse con el curso de Python. Pudiendo resolver problemas con 1 o  2 clases o funciones.\n",
    "\n",
    "    b). ```NIVEL 2``` o ```INTERMEDIO```: Implica un nivel de dificultad para quienes apenas han aprendido programación en Python, pero que desde ya tienen un conocmiento previo en programación. El estudiante podrá ser capaz de resolver problemas que involucren 3 o más clases o funciones.\n",
    "\n",
    "    c). ```NIVEL 3``` o ```AVANZADO```: Implica un nivel de dificultad mayor, pudiendo el estudiante resolver los problemas con diferentes técnicas avanzadas y paquetes estandar de python.\n",
    "\n",
    "\n",
    "2. __Plantilla de Problemas__:\n",
    "\n",
    "    a). ```Pregunta```: Representará el enuciado principal con el problema a resolver utilizando Python. \n",
    "\n",
    "    b). ```Solución```: En el siguiente notebook podrás encontrar la solución al planteamiento de la pregunta para que puedas ayudarte a comparar resultados o encontrar una forma diferente de resolver la incognita.\n",
    "\n",
    "    c). ```Pistas:```: En algunos casos, dada la dificultad o solo con el fin de facilitar el desarrollo del ejercicio, se han entregado algunas pistas o formulas necesarias para llevar acabo los ejercicios.\n",
    "    \n",
    "    \n",
    "3. __Notas Importantes__:\n",
    "\n",
    "    a) ```Palabras Destacadas:``` En algunos casos, encontrarás ejercicios cuyo planteamiento cuenta con palabras destacadas como ```<n>``` o ```<c>``` que son utilizadas como variables en la solución del ejercicio, esto fue diseñado de este modo solo para brindarte una ```ayuda visual``` para ```comprender``` de mejor manera la ```solución del problema```. Si no te sientes comodo utilizando las mismas variables ```recuerda que puedes utilizar las tuyas propias``` para llegar al resultado final.\n"
   ]
  },
  {
   "cell_type": "markdown",
   "metadata": {},
   "source": [
    "#### GUIA DE EJERCICIOS NIVEL 1"
   ]
  },
  {
   "cell_type": "markdown",
   "metadata": {},
   "source": [
    "__Ejercicio 1:__\n",
    "\n",
    "* Escribe un programa que almacene en una variable ```<a>``` el resultado de la siguiente operación 672 + 55 – 24  + 0.523 y luego muestre por pantalla el resultado contenida en dicha variable."
   ]
  },
  {
   "cell_type": "markdown",
   "metadata": {},
   "source": [
    "__Ejercicio 2:__\n",
    "\n",
    "* Escribe un programa que muestre en pantalla la ```sumatoria``` de dos números ```<n1>``` y ```<n2>``` ingresados por el usuario "
   ]
  },
  {
   "cell_type": "markdown",
   "metadata": {},
   "source": [
    "__Ejercicio 3:__\n",
    "\n",
    "* Escribe un programa que solicite un número ```<n>``` y luego muestre por pantalla el ```doble``` de ese número.\n",
    "\n",
    "*Formula:*\n",
    "<font size=\"4\">${2}*{n}$</font>"
   ]
  },
  {
   "cell_type": "markdown",
   "metadata": {},
   "source": [
    "__Ejercicio 4:__\n",
    "\n",
    "* Escribe un programa que solicite un número ```<n>``` y luego muestre por pantalla la ```mitad``` de ese número:\t\n",
    "\n",
    "*Formula:*\n",
    "<font size=\"6\">$\\frac{n}{2}$</font>"
   ]
  },
  {
   "cell_type": "markdown",
   "metadata": {},
   "source": [
    "__Ejercicio 5:__\n",
    "\n",
    "* Escribe un programa que solicite dos números y luego muestre por pantalla la resta del segundo ```<n2>``` contra el primero ```<n1>```."
   ]
  },
  {
   "cell_type": "markdown",
   "metadata": {},
   "source": [
    "__Ejercicio 6:__\n",
    "\n",
    "* Escribe un programa que solicite un número <n> y luego muestre por pantalla el resultado de elevarlo al cuadrado:\n",
    "\n",
    "*Formula:*\n",
    "<font size=\"4\">$ {n}^{2}$</font>"
   ]
  },
  {
   "cell_type": "markdown",
   "metadata": {},
   "source": [
    "__Ejercicio 7:__\n",
    "\n",
    "* Escribe un programa que calcule el radio ```<r>``` de un circulo permitiendo al usuario ingresar el diámetro ```<d>```.\n",
    "\n",
    "*Formula:*\n",
    "<font size=\"5\">$ r = \\frac{d}{2}$</font>"
   ]
  },
  {
   "cell_type": "markdown",
   "metadata": {},
   "source": [
    "__Ejercicio 8:__\n",
    "\n",
    "* Escribe un programa que calcule el área ```<A>``` de un cuadrado permitiendo al usuario la base ```<b>``` y luego la altura ```<h>```\n",
    "    \n",
    "*Formula:*\n",
    "<font size=\"4\">$ A = {b} * {h}$</font>    "
   ]
  },
  {
   "cell_type": "markdown",
   "metadata": {},
   "source": [
    "-----"
   ]
  },
  {
   "cell_type": "markdown",
   "metadata": {},
   "source": [
    "#### GUIA DE EJERCICIOS NIVEL 2"
   ]
  },
  {
   "cell_type": "markdown",
   "metadata": {},
   "source": [
    "__Ejercicio 1:__\n",
    "\n",
    "•\tEscribir un programa que realice la siguiente operación aritmética. <font size=\"5\">$\\frac {(3+2)}{(2*5)}^2$</font>   "
   ]
  },
  {
   "cell_type": "markdown",
   "metadata": {},
   "source": [
    "__Ejercicio 2:__\n",
    "\n",
    "•\tEscribe un programa que calcule el 10% de un número ```<n>``` ingresado por el usuario.\n",
    "\n",
    "*Formula:* <font size=\"4\">$x = n * 0,1$</font>"
   ]
  },
  {
   "cell_type": "markdown",
   "metadata": {},
   "source": [
    "__Ejercicio 3:__\n",
    "\n",
    "•\tEscribe un programa que calcular el interés ```<IN>``` simple de un crédito, permitiendo al usuario ingresar el capital inicial ```<P>``` y  la tasa de interés ```<i>``` en un periodo de 12 meses ```<n>```.\n",
    "\n",
    "*Formula:* <font size=\"4\"> $ IN =  P * i * n $ </font>"
   ]
  },
  {
   "cell_type": "markdown",
   "metadata": {},
   "source": [
    "__Ejercicio 4:__\n",
    "\n",
    "•\tEscribe un programa que calcule la velocidad ```<v>``` a la que viaja un vehículo, permitiendo al usuario ingresar la distancia recorrida ```<s>``` y el tiempo que ha recorrido ```<t>```,\n",
    "\n",
    "*Formula:* <font size=\"6\">$v= \\frac {s} {t}$</font>"
   ]
  },
  {
   "cell_type": "markdown",
   "metadata": {},
   "source": [
    "__Ejercicio 5:__\n",
    "\n",
    "•\tEscribe un programa que ```calcule la raíz``` cuadrada de un número ingresada por un número ```<n>```.\n",
    "    \n",
    "*Formula:*  <font size=\"5\">$ x = \\sqrt{n}$</font>\n",
    "\n",
    "*Formula:*  <font size=\"5\">$ x = n^\\frac{1}{2} $</font>"
   ]
  },
  {
   "cell_type": "markdown",
   "metadata": {},
   "source": [
    "__Ejercicio 6:__\n",
    "\n",
    "•\tEscribe un programa que calcule la diferencia del cuadrado de dos números  ```<n1>``` y ```<n2>``` que hayan sido ingresados por el usuario.\n",
    "\n",
    "*Formula:* <font size=\"4\">$n1^2 + n2^2$</font>"
   ]
  }
 ],
 "metadata": {
  "kernelspec": {
   "display_name": "Python 3",
   "language": "python",
   "name": "python3"
  },
  "language_info": {
   "codemirror_mode": {
    "name": "ipython",
    "version": 3
   },
   "file_extension": ".py",
   "mimetype": "text/x-python",
   "name": "python",
   "nbconvert_exporter": "python",
   "pygments_lexer": "ipython3",
   "version": "3.7.3"
  }
 },
 "nbformat": 4,
 "nbformat_minor": 2
}
