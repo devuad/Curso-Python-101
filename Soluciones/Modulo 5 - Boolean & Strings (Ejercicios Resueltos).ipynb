{
 "cells": [
  {
   "cell_type": "markdown",
   "metadata": {},
   "source": [
    "## MÓDULO 5: BOOLEANOS Y STRINGS."
   ]
  },
  {
   "cell_type": "markdown",
   "metadata": {},
   "source": [
    "-----"
   ]
  },
  {
   "cell_type": "markdown",
   "metadata": {},
   "source": [
    "### Consideraciones: \n",
    "\n",
    "\n",
    "1.  __Descripción por niveles:__\n",
    "\n",
    "    a). ```NIVEL 1``` o ```PRINCIPIANTE```: Implica un nivel de dificultad para quienes han apenas comenzado a introducirse con el curso de Python. Pudiendo resolver problemas con 1 o  2 clases o funciones.\n",
    "\n",
    "    b). ```NIVEL 2``` o ```INTERMEDIO```: Implica un nivel de dificultad para quienes apenas han aprendido programación en Python, pero que desde ya tienen un conocmiento previo en programación. El estudiante podrá ser capaz de resolver problemas que involucren 3 o más clases o funciones.\n",
    "\n",
    "    c). ```NIVEL 3``` o ```AVANZADO```: Implica un nivel de dificultad mayor, pudiendo el estudiante resolver los problemas con diferentes técnicas avanzadas y paquetes estandar de python.\n",
    "\n",
    "\n",
    "2. __Plantilla de Problemas__:\n",
    "\n",
    "    a). ```Pregunta```: Representará el enuciado principal con el problema a resolver utilizando Python. \n",
    "\n",
    "    b). ```Solución```: En el siguiente notebook podrás encontrar la solución al planteamiento de la pregunta para que puedas ayudarte a comparar resultados o encontrar una forma diferente de resolver la incognita.\n",
    "\n",
    "    c). ```Pistas:```: En algunos casos, dada la dificultad o solo con el fin de facilitar el desarrollo del ejercicio, se han entregado algunas pistas o formulas necesarias para llevar acabo los ejercicios.\n",
    "    \n",
    "    \n",
    "3. __Notas Importantes__:\n",
    "\n",
    "    a) ```Palabras Destacadas:``` En algunos casos, encontrarás ejercicios cuyo planteamiento cuenta con palabras destacadas como ```<n>``` o ```<c>``` que son utilizadas como variables en la solución del ejercicio, esto fue diseñado de este modo solo para brindarte una ```ayuda visual``` para ```comprender``` de mejor manera la ```solución del problema```. Si no te sientes comodo utilizando las mismas variables ```recuerda que puedes utilizar las tuyas propias``` para llegar al resultado final."
   ]
  },
  {
   "cell_type": "markdown",
   "metadata": {},
   "source": [
    "#### GUIA DE EJERCICIOS NIVEL 1"
   ]
  },
  {
   "cell_type": "markdown",
   "metadata": {},
   "source": [
    "__Ejercicio 1:__\n",
    "\n",
    "* Utilizando ```len()```, escribe un programa que muestre en pantalla el ```largo  total``` de la cadena: __Universidad Autodidacta__."
   ]
  },
  {
   "cell_type": "code",
   "execution_count": 1,
   "metadata": {},
   "outputs": [
    {
     "name": "stdout",
     "output_type": "stream",
     "text": [
      "El largo de la cadena es:  23\n"
     ]
    }
   ],
   "source": [
    "# Solución ejercicio 1.\n",
    "\n",
    "texto = \"Universidad Autodidacta\"\n",
    "largo = len(texto)\n",
    "\n",
    "print(\"El largo de la cadena es: \", largo)"
   ]
  },
  {
   "cell_type": "markdown",
   "metadata": {},
   "source": [
    "__Ejercicio 2:__\n",
    "\n",
    "* •\tUtilizando los ```caracteres de escape```, escribe un programa que muestre en pantalla la letra de tu canción favorita utilizando el siguiente formato:\n",
    "\n",
    "> *Primer verso*\n",
    "> <br/>*Segundo Verso*\n",
    "> <br/>*Tercer Verso*\n",
    "> <br/>*Cuarto Verso*\n"
   ]
  },
  {
   "cell_type": "code",
   "execution_count": 2,
   "metadata": {},
   "outputs": [
    {
     "name": "stdout",
     "output_type": "stream",
     "text": [
      "Let it be, let it be\n",
      "Let it be, let it be\n",
      "Whisper words of wisdom, let it be\n"
     ]
    }
   ],
   "source": [
    "# Solución ejercicio 2.\n",
    "\n",
    "print(\"Let it be, let it be\\nLet it be, let it be\\nWhisper words of wisdom, let it be\")"
   ]
  },
  {
   "cell_type": "markdown",
   "metadata": {},
   "source": [
    "__Ejercicio 3:__\n",
    "\n",
    "* Escribe un programa que solicite al usuario una cadena ```<c>```y un número ```<n>```, y luego muestre en pantalla la ```cadena repetida``` la cantidad de veces ingresada.  \n",
    "\n",
    "---\n",
    "```\n",
    "cadena: UAD\n",
    "cantidad: 5\n",
    "> UADUADUADUADUAD\n",
    "```"
   ]
  },
  {
   "cell_type": "code",
   "execution_count": null,
   "metadata": {},
   "outputs": [],
   "source": [
    "# Solución ejercicio 3.\n",
    "\n",
    "c = input(\"Ingrese una cadena: \")\n",
    "n = int(input(\"ingrese número de veces: \"))\n",
    "\n",
    "print(c * n)   # multiplico el caracter c -> n cantidad de veces"
   ]
  },
  {
   "cell_type": "markdown",
   "metadata": {},
   "source": [
    "__Ejercicio 4:__\n",
    "\n",
    "* Escribe un programa que muestre por pantalla el ```primer carácter``` de una palabra o cadena ingresada por el usuario."
   ]
  },
  {
   "cell_type": "code",
   "execution_count": null,
   "metadata": {},
   "outputs": [],
   "source": [
    "# Solución ejercicio 4.\n",
    "\n",
    "palabra = input(\"Ingrese una cadena: \")\n",
    "primer = palabra[0]\n",
    "\n",
    "print(\"El primer caracter es: \", primer)"
   ]
  },
  {
   "cell_type": "markdown",
   "metadata": {},
   "source": [
    "__Ejercicio 5:__\n",
    "\n",
    "* Escribe un programa que muestre por pantalla el ```último carácter``` de una palabra o cadena ingresada por el usuario."
   ]
  },
  {
   "cell_type": "code",
   "execution_count": null,
   "metadata": {},
   "outputs": [],
   "source": [
    "# Solución ejercicio 5.\n",
    "\n",
    "c = input(\"Ingrese una cadena: \")\n",
    "\n",
    "primer = c[-1]   # Selecciono el último (-1) caracter de la cadena c.\n",
    "\n",
    "print(\"El primer caracter es: \", primer)"
   ]
  },
  {
   "cell_type": "markdown",
   "metadata": {},
   "source": [
    "__Ejercicio 6:__\n",
    "\n",
    "* Escribe un programa que muestre ```unidas``` por pantalla 3 cadenas ingresadas por el usuario ```<c1>```, ```<c2>``` y ```<c3>```."
   ]
  },
  {
   "cell_type": "code",
   "execution_count": null,
   "metadata": {},
   "outputs": [],
   "source": [
    "# Solución ejercicio 6.\n",
    "\n",
    "c1 = input(\"Ingrese primera cadena: \")\n",
    "c2 = input(\"Ingrese segunda cadena: \")\n",
    "c3 = input(\"Ingrese tercera cadena: \")\n",
    "\n",
    "concatenar = c1 + c2 + c3  # Concateno las tres cadenas ingresadas.\n",
    "\n",
    "print(\"La cadena concatenada: \", concatenar)   # Muestro resultado final"
   ]
  },
  {
   "cell_type": "markdown",
   "metadata": {},
   "source": [
    "__Ejercicio 7:__\n",
    "\n",
    "* Escribe un programa que muestre en pantalla la diferencia de tipo ```type()``` entre un booleano ```True``` o ```False``` y una cadena con valor ```True``` o ```False```"
   ]
  },
  {
   "cell_type": "code",
   "execution_count": 4,
   "metadata": {},
   "outputs": [
    {
     "name": "stdout",
     "output_type": "stream",
     "text": [
      "Contenido de Booleano:  True\n",
      "Contenido de Cadena:  True\n",
      "-----\n",
      "Tipo Booleano:  <class 'bool'>\n",
      "Tipo Cadena:  <class 'str'>\n"
     ]
    }
   ],
   "source": [
    "# Solución ejercicio 7.\n",
    "\n",
    "booleano = True\n",
    "cadena = \"True\"\n",
    "\n",
    "print(\"Contenido de Booleano: \", booleano)\n",
    "print(\"Contenido de Cadena: \", cadena)\n",
    "\n",
    "print(\"-\" * 5) # imprimo una linea\n",
    "\n",
    "print(\"Tipo Booleano: \", type(booleano))\n",
    "print(\"Tipo Cadena: \", type(cadena))"
   ]
  },
  {
   "cell_type": "markdown",
   "metadata": {},
   "source": [
    "-----"
   ]
  },
  {
   "cell_type": "markdown",
   "metadata": {},
   "source": [
    "#### GUIA DE EJERCICIOS NIVEL 2"
   ]
  },
  {
   "cell_type": "markdown",
   "metadata": {},
   "source": [
    "__Ejercicio 1:__\n",
    "\n",
    "•\tUtilizado ```dir()```, escribe un programa que convierta a mayúsculas una cadena ```<c>``` ingresada por el usuario."
   ]
  },
  {
   "cell_type": "code",
   "execution_count": 3,
   "metadata": {},
   "outputs": [
    {
     "name": "stdout",
     "output_type": "stream",
     "text": [
      "Ingrese una cadena: univerSidad AutoDidacTa\n",
      "UNIVERSIDAD AUTODIDACTA\n"
     ]
    }
   ],
   "source": [
    "# Solución Ejercicio 1.\n",
    "\n",
    "c = input(\"Ingrese una cadena: \")\n",
    "\n",
    "print(c.upper())"
   ]
  },
  {
   "cell_type": "markdown",
   "metadata": {},
   "source": [
    "__Ejercicio 2:__\n",
    "\n",
    "•\tUtilizando ```dir()```, escribe un programa que convierta en minúsculas una cadena ```<c>``` ingresada por el usuario."
   ]
  },
  {
   "cell_type": "code",
   "execution_count": 4,
   "metadata": {},
   "outputs": [
    {
     "name": "stdout",
     "output_type": "stream",
     "text": [
      "Ingrese una cadena: UNIVERSIdad AuTODIDACTa\n",
      "universidad autodidacta\n"
     ]
    }
   ],
   "source": [
    "# Solución Ejercicio 2.\n",
    "\n",
    "c = input(\"Ingrese una cadena: \")\n",
    "\n",
    "print(c.lower())"
   ]
  },
  {
   "cell_type": "markdown",
   "metadata": {},
   "source": [
    "__Ejercicio 3:__\n",
    "\n",
    "•\tUtilizando ```dir()```, escribe un programa que convierta en formato de ```título``` el siguiente texto: __UnIvERsiDaD AuTOdIDacTa__"
   ]
  },
  {
   "cell_type": "code",
   "execution_count": 5,
   "metadata": {},
   "outputs": [
    {
     "name": "stdout",
     "output_type": "stream",
     "text": [
      "Universidad Autodidacta\n"
     ]
    }
   ],
   "source": [
    "# Solución Ejercicio 3.\n",
    "\n",
    "c = \"UnIvERsiDaD AuTOdIDacTa\"\n",
    "\n",
    "print(c.title())"
   ]
  },
  {
   "cell_type": "markdown",
   "metadata": {},
   "source": [
    "__Ejercicio 4:__\n",
    "\n",
    "•\tEscribe un programa que permita ingresar el nombre del usuario ```<nombre>``` y un número entero ```<n>``` e imprima por pantalla en líneas distintas el nombre del usuario tantas veces como el número introducido."
   ]
  },
  {
   "cell_type": "code",
   "execution_count": 9,
   "metadata": {},
   "outputs": [
    {
     "name": "stdout",
     "output_type": "stream",
     "text": [
      "Ingrese una cadena: uad\n",
      "Ingrese un número entero: 7\n",
      "uad\n",
      "uad\n",
      "uad\n",
      "uad\n",
      "uad\n",
      "uad\n",
      "uad\n",
      "\n"
     ]
    }
   ],
   "source": [
    "# Solución Ejercicio 4.\n",
    "\n",
    "nombre = input(\"Ingrese una cadena: \")\n",
    "n = int(input(\"Ingrese un número entero: \"))\n",
    "\n",
    "x = nombre + \"\\n\" # agregamos al salto de linea a nuestro nombre ingresado\n",
    "\n",
    "print(x * n)  # multiplicamos nuestra variable para que se repita n veces"
   ]
  },
  {
   "cell_type": "markdown",
   "metadata": {},
   "source": [
    "__Ejercicio 5:__\n",
    "\n",
    "•\tEscribe un programa que permita el usuario ingresar tres cadenas ```<c1>```, ```<c2>``` y ```<c3>``` diferentes y luego muestre en pantalla la unión de las cadenas y el total de caracteres que ahora tienen."
   ]
  },
  {
   "cell_type": "code",
   "execution_count": 10,
   "metadata": {},
   "outputs": [
    {
     "name": "stdout",
     "output_type": "stream",
     "text": [
      "Ingrese una primera cadena: la\n",
      "Ingrese una segunda cadena: universidad\n",
      "Ingrese una tercera cadena: autodidacta\n",
      "Cadena Final:  launiversidadautodidacta\n",
      "Largo de cadena: 24\n"
     ]
    }
   ],
   "source": [
    "# Solución Ejercicio 5.\n",
    "\n",
    "c1 = input(\"Ingrese una primera cadena: \")\n",
    "c2 = input(\"Ingrese una segunda cadena: \")\n",
    "c3 = input(\"Ingrese una tercera cadena: \")\n",
    "\n",
    "c = c1 + c2 + c3\n",
    "\n",
    "print(\"Cadena Final: \", c)\n",
    "print(f\"Largo de cadena: {len(c)}\")"
   ]
  }
 ],
 "metadata": {
  "kernelspec": {
   "display_name": "Python 3",
   "language": "python",
   "name": "python3"
  },
  "language_info": {
   "codemirror_mode": {
    "name": "ipython",
    "version": 3
   },
   "file_extension": ".py",
   "mimetype": "text/x-python",
   "name": "python",
   "nbconvert_exporter": "python",
   "pygments_lexer": "ipython3",
   "version": "3.7.3"
  }
 },
 "nbformat": 4,
 "nbformat_minor": 2
}
