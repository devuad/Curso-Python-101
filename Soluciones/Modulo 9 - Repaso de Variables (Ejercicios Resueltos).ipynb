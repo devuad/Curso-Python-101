{
 "cells": [
  {
   "cell_type": "markdown",
   "metadata": {},
   "source": [
    "### MÓDULO 9: REPASO DE CONTENIDO"
   ]
  },
  {
   "cell_type": "markdown",
   "metadata": {},
   "source": [
    "-----"
   ]
  },
  {
   "cell_type": "markdown",
   "metadata": {},
   "source": [
    "### Consideraciones:\n",
    "\n",
    "\n",
    "1.  __Descripción por niveles:__\n",
    "\n",
    "    a). ```NIVEL 1``` o ```PRINCIPIANTE```: Implica un nivel de dificultad para quienes han apenas comenzado a introducirse con el curso de Python. Pudiendo resolver problemas con 1 o  2 clases o funciones.\n",
    "\n",
    "    b). ```NIVEL 2``` o ```INTERMEDIO```: Implica un nivel de dificultad para quienes apenas han aprendido programación en Python, pero que desde ya tienen un conocmiento previo en programación. El estudiante podrá ser capaz de resolver problemas que involucren 3 o más clases o funciones.\n",
    "\n",
    "    c). ```NIVEL 3``` o ```AVANZADO```: Implica un nivel de dificultad mayor, pudiendo el estudiante resolver los problemas con diferentes técnicas avanzadas y paquetes estandar de python.\n",
    "\n",
    "\n",
    "2. __Plantilla de Problemas__:\n",
    "\n",
    "    a). ```Pregunta```: Representará el enuciado principal con el problema a resolver utilizando Python. \n",
    "\n",
    "    b). ```Solución```: En el siguiente notebook podrás encontrar la solución al planteamiento de la pregunta para que puedas ayudarte a comparar resultados o encontrar una forma diferente de resolver la incognita.\n",
    "\n",
    "    c). ```Pistas:```: En algunos casos, dada la dificultad o solo con el fin de facilitar el desarrollo del ejercicio, se han entregado algunas pistas o formulas necesarias para llevar acabo los ejercicios.\n",
    "    \n",
    "    \n",
    "3. __Notas Importantes__:\n",
    "\n",
    "    a) ```Palabras Destacadas:``` En algunos casos, encontrarás ejercicios cuyo planteamiento cuenta con palabras destacadas como ```<n>``` o ```<c>``` que son utilizadas como variables en la solución del ejercicio, esto fue diseñado de este modo solo para brindarte una ```ayuda visual``` para ```comprender``` de mejor manera la ```solución del problema```. Si no te sientes comodo utilizando las mismas variables ```recuerda que puedes utilizar las tuyas propias``` para llegar al resultado final."
   ]
  },
  {
   "cell_type": "markdown",
   "metadata": {},
   "source": [
    "#### GUIA DE EJERCICIOS NIVEL 1"
   ]
  },
  {
   "cell_type": "markdown",
   "metadata": {},
   "source": [
    "__Ejercicio 1:__\n",
    "\n",
    "* Escribe un programa que muestre en pantalla la ```diferencia``` de dos números ```<n1>``` y ```<n2>``` ingresados por el usuario "
   ]
  },
  {
   "cell_type": "code",
   "execution_count": 3,
   "metadata": {},
   "outputs": [
    {
     "name": "stdout",
     "output_type": "stream",
     "text": [
      "ingrese un número: 25\n",
      "Ingrese un nuevo numero: 5\n",
      "La resultado es:  20\n"
     ]
    }
   ],
   "source": [
    "# Solución Ejercicio 1.\n",
    "\n",
    "n1 = int(input(\"ingrese un número: \"))\n",
    "n2 = int(input(\"Ingrese un nuevo numero: \"))\n",
    "\n",
    "resultado = n1 - n2\n",
    "\n",
    "print(\"La resultado es: \", resultado)"
   ]
  },
  {
   "cell_type": "markdown",
   "metadata": {},
   "source": [
    "__Ejercicio 2:__\n",
    "\n",
    "* Escribe un programa que muestre en pantalla el ```largo ``` de caracteres de la siguiente canción:\n",
    "\n",
    "> I found a love for me\n",
    "> <br>Darling, just dive right in\n",
    "> <br>And follow my lead\n",
    "> <br>Well, I found a girl, beautiful and sweet\n",
    "> <br>I never knew you were the someone waiting for me\n",
    "\n",
    "\n",
    "*__Nota__: Existen muchos metodos para realizar esto, utiliza el cual te acomode más.*"
   ]
  },
  {
   "cell_type": "code",
   "execution_count": 5,
   "metadata": {},
   "outputs": [
    {
     "name": "stdout",
     "output_type": "stream",
     "text": [
      "161\n"
     ]
    }
   ],
   "source": [
    "# Solución ejercicio 2.\n",
    "\n",
    "cancion = \n",
    "\"\"\"\n",
    "I found a love for me\n",
    "Darling, just dive right in\n",
    "And follow my lead\n",
    "Well, I found a girl, beautiful and sweet\n",
    "I never knew you were the someone waiting for me\n",
    "\"\"\"\n",
    "\n",
    "print(len(cancion)) # Recuerda que los espacios en blancos también son considerados un caracter."
   ]
  },
  {
   "cell_type": "markdown",
   "metadata": {},
   "source": [
    "__Ejercicio 3:__\n",
    "\n",
    "* Escribe un programa que permita ```encontrar``` un elemento especifico de la siguiente ```lista```:\n",
    "\n",
    "~~~\n",
    " lista = ['a', 'b', 'c', 'd', 'e', 'f', 'g', 'h', 'i', 'j', 'k', 'l', 'm', 'n']\n",
    "~~~ "
   ]
  },
  {
   "cell_type": "code",
   "execution_count": 6,
   "metadata": {},
   "outputs": [
    {
     "name": "stdout",
     "output_type": "stream",
     "text": [
      "Ingrese un indice: 5\n",
      "Elemento encontrado:  f\n"
     ]
    }
   ],
   "source": [
    "# Solución ejercicio 3.\n",
    "\n",
    "lista = ['a', 'b', 'c', 'd', 'e', 'f', 'g', 'h', 'i', 'j', 'k', 'l', 'm', 'n']\n",
    "\n",
    "indice = int(input(\"Ingrese un indice: \"))\n",
    "\n",
    "print(\"Elemento encontrado: \", lista[indice])"
   ]
  },
  {
   "cell_type": "markdown",
   "metadata": {},
   "source": [
    "__Ejercicio 4:__\n",
    "\n",
    "~~~\n",
    "tupla = (-22, -16, -15, -9, -8, -7, -6, -2, 5, 11, 16, 17, 20, 23, 24, 18, -14, -12, -9, -4, 3, 6, 7, 9, 10, 11, 12, 13, 20, 23, -22, -19, -17, -16, -9, -8, -4, 3, 4, 6, 12, 14, 15, 18, 22, -24, -17, -16, -15, -10, -9, -8, -6, -1, 1, 6, 9, 17, 21, 23, -23, -21, -19, -16, -13, -11, -10, -9, -8, -1, 9, 10, 12, 19, 23)\n",
    "~~~\n",
    "\n",
    "* Basada en la anterior ```tupla```, muestre en pantalla la ```cantidad``` de números ```-9``` que existen almacenados.\n",
    "\n",
    "*__Nota:__ puedes utilizar ```dir()``` para ver funcionalidades extras utilizables con tuplas.*"
   ]
  },
  {
   "cell_type": "code",
   "execution_count": 28,
   "metadata": {},
   "outputs": [
    {
     "name": "stdout",
     "output_type": "stream",
     "text": [
      "5\n"
     ]
    }
   ],
   "source": [
    "# Solución ejercicio 4.\n",
    "\n",
    "tupla = (-22, -16, -15, -9, -8, -7, -6, -2, 5, 11, 16, 17, \n",
    "         20, 23, 24, 18, -14, -12, -9, -4, 3, 6, 7, 9, 10,\n",
    "         11, 12, 13, 20, 23, -22, -19, -17, -16, -9, -8, -4,\n",
    "         3, 4, 6, 12, 14, 15, 18, 22, -24, -17, -16, -15, -10,\n",
    "         -9, -8, -6, -1, 1, 6, 9, 17, 21, 23, -23, -21, -19, -16,\n",
    "         -13, -11, -10, -9, -8, -1, 9, 10, 12, 19, 23)\n",
    "\n",
    "print(tupla.count(-9))"
   ]
  },
  {
   "cell_type": "markdown",
   "metadata": {},
   "source": [
    "__Ejercicio 5:__\n",
    "\n",
    "* Escribe un programa que permita unir dos diccionarios de Python.\n",
    "\n",
    "*__Nota:__ puedes utilizar ```dir()``` para ver funcionalidades extras utilizables con diccionarios.*"
   ]
  },
  {
   "cell_type": "code",
   "execution_count": 39,
   "metadata": {},
   "outputs": [
    {
     "name": "stdout",
     "output_type": "stream",
     "text": [
      "{'a': 30, 'b': 60, 'c': 440, 'd': 200}\n"
     ]
    }
   ],
   "source": [
    "# Solución 1 ejercicio 5.\n",
    "\n",
    "d1 = {'a': 30, 'b': 60}\n",
    "d2 = {'c': 440, 'd': 200}\n",
    "\n",
    "d1.update(d2)    # Actualizamos el contenido de d1 con update() pasandole los valores de d2\n",
    "\n",
    "print(d1)"
   ]
  },
  {
   "cell_type": "markdown",
   "metadata": {},
   "source": [
    "*__Nota:__ A pesar de haber utilizado un metodo sencillo y que resuelve nuestro problema sin mayor complicación, no es recomendable de utilizar en la practica.\n",
    "Principalmente porque hemos modificado la información de nuestro ```d1``` imposibilitandonos a usarla en el futuro a no ser que eliminemos los datos que hemos agregado desde el ```d2```.*"
   ]
  },
  {
   "cell_type": "code",
   "execution_count": 38,
   "metadata": {},
   "outputs": [
    {
     "name": "stdout",
     "output_type": "stream",
     "text": [
      "{'a': 30, 'b': 60, 'c': 440, 'd': 200}\n"
     ]
    }
   ],
   "source": [
    "# Solución 2 ejercicio 5.\n",
    "\n",
    "d1 = {'a': 30, 'b': 60}\n",
    "d2 = {'c': 440, 'd': 200}\n",
    "\n",
    "d = d1.copy()    # Creamos una copia del d1 para no perder sus datos en una variable llamada d\n",
    "d.update(d2)    # Actualizamos el contenido del diccionario d con update() pasandole los valores de d2\n",
    "\n",
    "print(d)"
   ]
  },
  {
   "cell_type": "markdown",
   "metadata": {},
   "source": [
    "*__Nota:__ En esta nueva solución hemos creado una copia de nuestro ```d1``` para no alterar la información original de ese diccionario, por lo que luego podremos agregar el contenido del ```d2``` tal cual en el ejemplo anterior pero todo almacenado en una variable nueva.*"
   ]
  },
  {
   "cell_type": "markdown",
   "metadata": {},
   "source": [
    "__Ejercicio 6:__\n",
    "\n",
    "* Utilizando ```format()```, imprime en pantalla la ```edad``` y ```nombre``` del usuario."
   ]
  },
  {
   "cell_type": "code",
   "execution_count": 41,
   "metadata": {},
   "outputs": [
    {
     "name": "stdout",
     "output_type": "stream",
     "text": [
      "Ingrese su nombre: Cristopher\n",
      "Ingrese su apellido: 31\n",
      "Su nombre es Cristopher y tiene 31 años.\n"
     ]
    }
   ],
   "source": [
    "# Solución ejercicio 6.\n",
    "\n",
    "nombre = input(\"Ingrese su nombre: \")\n",
    "edad = int(input(\"Ingrese su apellido: \"))\n",
    "\n",
    "print(\"Su nombre es {} y tiene {} años.\".format(nombre, edad))"
   ]
  },
  {
   "cell_type": "markdown",
   "metadata": {},
   "source": [
    "__Ejercicio 7:__\n",
    "\n",
    "* Utilizando ```format()```, imprime en pantalla ```4 números enteros ``` ingresados por el usuario comenzando desde el ```último``` hasta el ```primero ```."
   ]
  },
  {
   "cell_type": "code",
   "execution_count": 40,
   "metadata": {},
   "outputs": [
    {
     "name": "stdout",
     "output_type": "stream",
     "text": [
      "Ingrese primer número: 1\n",
      "Ingrese segundo número: 2\n",
      "Ingrese tercer número: 3\n",
      "Ingrese cuarto número: 4\n",
      "4 3 2 1\n"
     ]
    }
   ],
   "source": [
    "# Solución ejercicio 7.\n",
    "\n",
    "n1 = int(input(\"Ingrese primer número: \"))\n",
    "n2 = int(input(\"Ingrese segundo número: \"))\n",
    "n3 = int(input(\"Ingrese tercer número: \"))\n",
    "n4 = int(input(\"Ingrese cuarto número: \"))\n",
    "\n",
    "print(\"{3} {2} {1} {0}\".format(n1, n2, n3, n4))"
   ]
  },
  {
   "cell_type": "markdown",
   "metadata": {},
   "source": [
    "__Ejercicio 8:__\n",
    "\n",
    "•\tEscribe un programa que permita al usuario ingresar un número entero ```<n>```, y luego crea una lista ```<l1>``` en rango desde el número ingresado ```<n>``` (incluido ```<n>```) hasta ```0```."
   ]
  },
  {
   "cell_type": "code",
   "execution_count": 20,
   "metadata": {},
   "outputs": [
    {
     "name": "stdout",
     "output_type": "stream",
     "text": [
      "Ingrese un número: 7\n",
      "[7, 6, 5, 4, 3, 2, 1, 0]\n"
     ]
    }
   ],
   "source": [
    "# Solución ejercicio 8.\n",
    "\n",
    "n = int(input(\"Ingrese un número: \"))\n",
    "x = list(reversed(range(0, n + 1, 1)))\n",
    "\n",
    "print(x)"
   ]
  },
  {
   "cell_type": "markdown",
   "metadata": {},
   "source": [
    "__Ejercicio 9:__\n",
    "\n",
    "•\tMuestra en pantalla el número de índice donde se encuentra el número más alto de la lista."
   ]
  },
  {
   "cell_type": "code",
   "execution_count": 21,
   "metadata": {},
   "outputs": [
    {
     "name": "stdout",
     "output_type": "stream",
     "text": [
      "7\n"
     ]
    }
   ],
   "source": [
    "# Solución ejercicio 9.\n",
    "\n",
    "maxN = max(x)\n",
    "\n",
    "print(\"Número maximo: \", maxN)"
   ]
  },
  {
   "cell_type": "markdown",
   "metadata": {},
   "source": [
    "__Ejercicio 10:__\n",
    "\n",
    "•\tMuestra en pantalla el número de índice donde se encuentra el número más alto de la lista."
   ]
  },
  {
   "cell_type": "code",
   "execution_count": 22,
   "metadata": {},
   "outputs": [
    {
     "name": "stdout",
     "output_type": "stream",
     "text": [
      "Número minimo:  0\n"
     ]
    }
   ],
   "source": [
    "# Solución ejercicio 10.\n",
    "\n",
    "minN = min(x)\n",
    "\n",
    "print(\"Número minimo: \", minN)"
   ]
  }
 ],
 "metadata": {
  "kernelspec": {
   "display_name": "Python 3",
   "language": "python",
   "name": "python3"
  },
  "language_info": {
   "codemirror_mode": {
    "name": "ipython",
    "version": 3
   },
   "file_extension": ".py",
   "mimetype": "text/x-python",
   "name": "python",
   "nbconvert_exporter": "python",
   "pygments_lexer": "ipython3",
   "version": "3.7.3"
  }
 },
 "nbformat": 4,
 "nbformat_minor": 2
}
