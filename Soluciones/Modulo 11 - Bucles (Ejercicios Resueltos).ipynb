{
 "cells": [
  {
   "cell_type": "markdown",
   "metadata": {},
   "source": [
    "### MÓDULO 11: BUCLES FOR Y WHILE"
   ]
  },
  {
   "cell_type": "markdown",
   "metadata": {},
   "source": [
    "----"
   ]
  },
  {
   "cell_type": "markdown",
   "metadata": {},
   "source": [
    "### Consideraciones:\n",
    "\n",
    "\n",
    "1.  __Descripción por niveles:__\n",
    "\n",
    "    a). ```NIVEL 1``` o ```PRINCIPIANTE```: Implica un nivel de dificultad para quienes han apenas comenzado a introducirse con el curso de Python. Pudiendo resolver problemas con 1 o  2 clases o funciones.\n",
    "\n",
    "    b). ```NIVEL 2``` o ```INTERMEDIO```: Implica un nivel de dificultad para quienes apenas han aprendido programación en Python, pero que desde ya tienen un conocmiento previo en programación. El estudiante podrá ser capaz de resolver problemas que involucren 3 o más clases o funciones.\n",
    "\n",
    "    c). ```NIVEL 3``` o ```AVANZADO```: Implica un nivel de dificultad mayor, pudiendo el estudiante resolver los problemas con diferentes técnicas avanzadas y paquetes estandar de python.\n",
    "\n",
    "\n",
    "2. __Plantilla de Problemas__:\n",
    "\n",
    "    a). ```Pregunta```: Representará el enuciado principal con el problema a resolver utilizando Python. \n",
    "\n",
    "    b). ```Solución```: En el siguiente notebook podrás encontrar la solución al planteamiento de la pregunta para que puedas ayudarte a comparar resultados o encontrar una forma diferente de resolver la incognita.\n",
    "\n",
    "    c). ```Pistas:```: En algunos casos, dada la dificultad o solo con el fin de facilitar el desarrollo del ejercicio, se han entregado algunas pistas o formulas necesarias para llevar acabo los ejercicios.\n",
    "    \n",
    "    \n",
    "3. __Notas Importantes__:\n",
    "\n",
    "    a) ```Palabras Destacadas:``` En algunos casos, encontrarás ejercicios cuyo planteamiento cuenta con palabras destacadas como ```<n>``` o ```<c>``` que son utilizadas como variables en la solución del ejercicio, esto fue diseñado de este modo solo para brindarte una ```ayuda visual``` para ```comprender``` de mejor manera la ```solución del problema```. Si no te sientes comodo utilizando las mismas variables ```recuerda que puedes utilizar las tuyas propias``` para llegar al resultado final."
   ]
  },
  {
   "cell_type": "markdown",
   "metadata": {},
   "source": [
    "#### GUIA DE EJERCICIOS NIVEL 1 - BUCLES FOR"
   ]
  },
  {
   "cell_type": "markdown",
   "metadata": {},
   "source": [
    "__Desarrolle:__\n",
    "\n",
    "Considere solo el bucle ```For``` para los siguientes ejercicios:"
   ]
  },
  {
   "cell_type": "markdown",
   "metadata": {},
   "source": [
    "__Ejercicio 1:__\n",
    "\n",
    "* Crea un programa que liste los países de la siguiente lista:\n",
    "\n",
    "\n",
    "~~~ \n",
    "lista = ['Canada','USA','Mexico','Australia']\n",
    "~~~"
   ]
  },
  {
   "cell_type": "code",
   "execution_count": 6,
   "metadata": {},
   "outputs": [],
   "source": [
    "# Solución ejercicio 1.\n",
    "\n",
    "lista = ['Canada','USA','Mexico','Australia']"
   ]
  },
  {
   "cell_type": "markdown",
   "metadata": {},
   "source": [
    "__Ejercicio 2:__\n",
    "\n",
    "* Crea un contador ```<n> ```desde el 0 hasta el 10."
   ]
  },
  {
   "cell_type": "code",
   "execution_count": 5,
   "metadata": {},
   "outputs": [
    {
     "name": "stdout",
     "output_type": "stream",
     "text": [
      "0\n",
      "1\n",
      "2\n",
      "3\n",
      "4\n",
      "5\n",
      "6\n",
      "7\n",
      "8\n",
      "9\n",
      "10\n"
     ]
    }
   ],
   "source": [
    "# Solución ejercicio 2.\n",
    "\n",
    "\n",
    "for i in range(0, 11, 1):\n",
    "    print(i)"
   ]
  },
  {
   "cell_type": "markdown",
   "metadata": {},
   "source": [
    "__Ejercicio 3:__\n",
    "\n",
    "* Crea un programa que permita al usuario un número entero ```<n> ``` y luego se devuelva en pantalla la ```tabla de multiplicar``` de ese número."
   ]
  },
  {
   "cell_type": "code",
   "execution_count": 4,
   "metadata": {},
   "outputs": [
    {
     "name": "stdout",
     "output_type": "stream",
     "text": [
      "Ingrese un número: 5\n",
      "5 * 1 = 5\n",
      "5 * 2 = 10\n",
      "5 * 3 = 15\n",
      "5 * 4 = 20\n",
      "5 * 5 = 25\n",
      "5 * 6 = 30\n",
      "5 * 7 = 35\n",
      "5 * 8 = 40\n",
      "5 * 9 = 45\n",
      "5 * 10 = 50\n"
     ]
    }
   ],
   "source": [
    "# Solución ejercicio 3.\n",
    "\n",
    "num = int(input(\"Ingrese un número: \"))\n",
    "\n",
    "for i in range(1, 11, 1):\n",
    "    print(\"{} * {} = {}\".format(num, i, num * i))"
   ]
  },
  {
   "cell_type": "markdown",
   "metadata": {},
   "source": [
    "__Ejercicio 4:__\n",
    "\n",
    "* Escribe un programa que permita contar todos los números ```pares``` desde el 0 hasta el 10."
   ]
  },
  {
   "cell_type": "code",
   "execution_count": 7,
   "metadata": {},
   "outputs": [
    {
     "name": "stdout",
     "output_type": "stream",
     "text": [
      "0 es par.\n",
      "2 es par.\n",
      "4 es par.\n",
      "6 es par.\n",
      "8 es par.\n",
      "10 es par.\n"
     ]
    }
   ],
   "source": [
    "# Solución ejercicio 4.\n",
    "\n",
    "for i in range(0, 11, 1):\n",
    "    if i % 2 == 0:\n",
    "        print(f\"{i} es par.\")"
   ]
  },
  {
   "cell_type": "markdown",
   "metadata": {},
   "source": [
    "__Ejercicio 5:__\n",
    "\n",
    "* Escribe un programa que permita contar todos los números ```impares``` desde el 1 hasta el 21."
   ]
  },
  {
   "cell_type": "code",
   "execution_count": 8,
   "metadata": {},
   "outputs": [
    {
     "name": "stdout",
     "output_type": "stream",
     "text": [
      "1 es impar.\n",
      "3 es impar.\n",
      "5 es impar.\n",
      "7 es impar.\n",
      "9 es impar.\n",
      "11 es impar.\n",
      "13 es impar.\n",
      "15 es impar.\n",
      "17 es impar.\n",
      "19 es impar.\n",
      "21 es impar.\n"
     ]
    }
   ],
   "source": [
    "# Solución ejercicio 5.\n",
    "\n",
    "for i in range(0, 22, 1):\n",
    "    if i % 2 == 1:\n",
    "        print(f\"{i} es impar.\")"
   ]
  },
  {
   "cell_type": "markdown",
   "metadata": {},
   "source": [
    "----"
   ]
  },
  {
   "cell_type": "markdown",
   "metadata": {},
   "source": [
    "#### GUIA DE EJERCICIOS NIVEL 1 - BUCLES WHILE"
   ]
  },
  {
   "cell_type": "markdown",
   "metadata": {},
   "source": [
    "__Ejercicio 1:__\n",
    "\n",
    "* Escribe un programa que realice una cuenta ```regresiva``` desde 10 hasta el 0."
   ]
  },
  {
   "cell_type": "code",
   "execution_count": 9,
   "metadata": {},
   "outputs": [
    {
     "name": "stdout",
     "output_type": "stream",
     "text": [
      "9\n",
      "8\n",
      "7\n",
      "6\n",
      "5\n",
      "4\n",
      "3\n",
      "2\n",
      "1\n",
      "0\n"
     ]
    }
   ],
   "source": [
    "# Solución ejercicio 1.\n",
    "\n",
    "contador = 10\n",
    "\n",
    "while contador > 0:\n",
    "    contador = contador - 1\n",
    "    print(contador)"
   ]
  },
  {
   "cell_type": "markdown",
   "metadata": {},
   "source": [
    "__Ejercicio 2:__\n",
    "\n",
    "* Escribe un programa que cuente de ```100 en 100``` y solo se detenga cuando alcance el número ```1200```."
   ]
  },
  {
   "cell_type": "code",
   "execution_count": 10,
   "metadata": {},
   "outputs": [
    {
     "name": "stdout",
     "output_type": "stream",
     "text": [
      "100\n",
      "200\n",
      "300\n",
      "400\n",
      "500\n",
      "600\n",
      "700\n",
      "800\n",
      "900\n",
      "1000\n",
      "1100\n",
      "1200\n"
     ]
    }
   ],
   "source": [
    "# Solución ejercicio 2.\n",
    "\n",
    "contador = 0\n",
    "\n",
    "while contador < 1200:\n",
    "    contador = contador + 100\n",
    "    print(contador)"
   ]
  },
  {
   "cell_type": "markdown",
   "metadata": {},
   "source": [
    "__Ejercicio 3:__\n",
    "\n",
    "* Escribe un programa que pregunte el nombre del ```usuario``` y luego lo imprima en ```mayusculas```. El programa debe detenerse trás ```3 interacciones```."
   ]
  },
  {
   "cell_type": "code",
   "execution_count": 11,
   "metadata": {},
   "outputs": [
    {
     "name": "stdout",
     "output_type": "stream",
     "text": [
      "Ingrese su nombre: uad\n",
      "UAD\n",
      "Ingrese su nombre: uad\n",
      "UAD\n",
      "Ingrese su nombre: uad\n",
      "UAD\n"
     ]
    }
   ],
   "source": [
    "# Solución ejercicio 3.\n",
    "\n",
    "interacciones = 0\n",
    "\n",
    "while interacciones < 3:\n",
    "    nombre = input(\"Ingrese su nombre: \")\n",
    "    \n",
    "    if interacciones != 3:\n",
    "        print(nombre.upper())\n",
    "    \n",
    "    interacciones += 1"
   ]
  },
  {
   "cell_type": "markdown",
   "metadata": {},
   "source": [
    "__Ejercicio 4:__\n",
    "\n",
    "* Escribe un programa que realice una cuenta desde el ```0``` hasta ```20``` e imprima en pantalla ```par``` cada vez que el contador pase por un número par."
   ]
  },
  {
   "cell_type": "code",
   "execution_count": 12,
   "metadata": {},
   "outputs": [
    {
     "name": "stdout",
     "output_type": "stream",
     "text": [
      "Contador:  0\n",
      "0 es par.\n",
      "Contador:  1\n",
      "Contador:  2\n",
      "2 es par.\n",
      "Contador:  3\n",
      "Contador:  4\n",
      "4 es par.\n",
      "Contador:  5\n",
      "Contador:  6\n",
      "6 es par.\n",
      "Contador:  7\n",
      "Contador:  8\n",
      "8 es par.\n",
      "Contador:  9\n",
      "Contador:  10\n",
      "10 es par.\n",
      "Contador:  11\n",
      "Contador:  12\n",
      "12 es par.\n",
      "Contador:  13\n",
      "Contador:  14\n",
      "14 es par.\n",
      "Contador:  15\n",
      "Contador:  16\n",
      "16 es par.\n",
      "Contador:  17\n",
      "Contador:  18\n",
      "18 es par.\n",
      "Contador:  19\n"
     ]
    }
   ],
   "source": [
    "# Solución ejercicio 4.\n",
    "\n",
    "contador = 0\n",
    "\n",
    "while contador < 20:\n",
    "    print(\"Contador: \", contador)\n",
    "    \n",
    "    if contador % 2 == 0:\n",
    "        print(f\"{contador} es par.\")\n",
    "        \n",
    "    contador = contador + 1"
   ]
  },
  {
   "cell_type": "markdown",
   "metadata": {},
   "source": [
    "__Ejercicio 5:__\n",
    "\n",
    "* Escribe un programa que solicite constantemente ingresar un número entero ```<n>``` y solo se detenga el valor ingresado sea igual a uno escogido por ti."
   ]
  },
  {
   "cell_type": "code",
   "execution_count": 13,
   "metadata": {},
   "outputs": [
    {
     "name": "stdout",
     "output_type": "stream",
     "text": [
      "Ingrese un número: 7\n",
      "No, no, no. Ese es no el número correcto\n",
      "Ingrese un número: 9\n",
      "No, no, no. Ese es no el número correcto\n",
      "Ingrese un número: 34\n",
      "No, no, no. Ese es no el número correcto\n",
      "Ingrese un número: 31416\n",
      "¡Exacto!, el número es:  31416\n"
     ]
    }
   ],
   "source": [
    "# Solución ejercicio 5.\n",
    "\n",
    "miNumero = 31416\n",
    "validador = False\n",
    "\n",
    "while validador == False:\n",
    "    n = int(input(\"Ingrese un número: \"))\n",
    "    \n",
    "    if(n != miNumero):\n",
    "        print(\"No, no, no. Ese es no el número correcto\")\n",
    "        \n",
    "    else:\n",
    "        print(\"¡Exacto!, el número es: \", miNumero)\n",
    "        validador = True"
   ]
  },
  {
   "cell_type": "markdown",
   "metadata": {},
   "source": [
    "---"
   ]
  },
  {
   "cell_type": "markdown",
   "metadata": {},
   "source": [
    "#### GUIA DE EJERCICIOS NIVEL 2 - BUCLES FOR"
   ]
  },
  {
   "cell_type": "markdown",
   "metadata": {},
   "source": [
    "__Ejercicio 1:__\n",
    "    \n",
    "* Escribe un programa que cuente la cantidad de números pares e impares de la siguiente secuencia de números:\n",
    "    \n",
    "~~~\n",
    "datos = (19, 7, 20, 8, 18, 10, 16, 3, 6, 12, 15, 1, 9, 14, 2, 5, 13 ,11 ,4) \n",
    "~~~"
   ]
  },
  {
   "cell_type": "code",
   "execution_count": 29,
   "metadata": {},
   "outputs": [
    {
     "name": "stdout",
     "output_type": "stream",
     "text": [
      "Cantidad de pares: 10\n",
      "Cantidad de impares: 8\n"
     ]
    }
   ],
   "source": [
    "# Solución ejercicio 1.\n",
    "\n",
    "datos = (19, 7, 20, 8, 18, 10, 16, 6, 12, 15, 1, 9, 14, 2, 5, 13 ,11 ,4)\n",
    "\n",
    "pares = 0\n",
    "impares = 0\n",
    "\n",
    "for x in datos:\n",
    "        if not x % 2:\n",
    "            pares += 1\n",
    "        else:\n",
    "            impares +=1\n",
    "print(\"Cantidad de pares:\", pares)\n",
    "print(\"Cantidad de impares:\", impares)"
   ]
  },
  {
   "cell_type": "markdown",
   "metadata": {},
   "source": [
    "__Ejercicio 2:__\n",
    "\n",
    "* Escribe un programa que imprima en pantalla todos los números desde el 0 al 10 a excepción del 4 y el 7"
   ]
  },
  {
   "cell_type": "code",
   "execution_count": 25,
   "metadata": {},
   "outputs": [
    {
     "name": "stdout",
     "output_type": "stream",
     "text": [
      "0 1 2 3 5 6 8 9 10 "
     ]
    }
   ],
   "source": [
    "# Solución ejercicio 2.\n",
    "\n",
    "for x in range(11):\n",
    "    if (x == 4 or x==7):\n",
    "        continue\n",
    "    print(x,end=' ')"
   ]
  },
  {
   "cell_type": "markdown",
   "metadata": {},
   "source": [
    "__Ejercicio 3:__\n",
    "    \n",
    "* •\tEscribe un programa que permita encontrar los números divisibles entre 4 y sean múltiplos de 6, en un rango de 1200 y 2400 "
   ]
  },
  {
   "cell_type": "code",
   "execution_count": 32,
   "metadata": {},
   "outputs": [
    {
     "name": "stdout",
     "output_type": "stream",
     "text": [
      "1200,1220,1240,1260,1280,1300,1320,1340,1360,1380,1400,1420,1440,1460,1480,1500,1520,1540,1560,1580,1600,1620,1640,1660,1680,1700,1720,1740,1760,1780,1800,1820,1840,1860,1880,1900,1920,1940,1960,1980,2000,2020,2040,2060,2080,2100,2120,2140,2160,2180,2200,2220,2240,2260,2280,2300,2320,2340,2360,2380,2400\n"
     ]
    }
   ],
   "source": [
    "# Solución ejercicio 3.\n",
    "\n",
    "nl = []\n",
    "\n",
    "for x in range(1200, 2401):\n",
    "    if (x % 4 == 0) and (x % 5 == 0):\n",
    "        nl.append(str(x))\n",
    "        \n",
    "print (','.join(nl))"
   ]
  },
  {
   "cell_type": "markdown",
   "metadata": {},
   "source": [
    "__Ejercicio 4:__\n",
    "    \n",
    "* Utilizando bucles ```For``` anidados, escribe un programa que construya el siguiente patron:\n",
    "\n",
    "~~~\n",
    "* \n",
    "* * \n",
    "* * * \n",
    "* * * * \n",
    "* * * * * \n",
    "* * * * \n",
    "* * * \n",
    "* * \n",
    "*\n",
    "~~~"
   ]
  },
  {
   "cell_type": "code",
   "execution_count": 15,
   "metadata": {},
   "outputs": [
    {
     "name": "stdout",
     "output_type": "stream",
     "text": [
      "\n",
      "* \n",
      "* * \n",
      "* * * \n",
      "* * * * \n",
      "* * * * * \n",
      "* * * * \n",
      "* * * \n",
      "* * \n",
      "* \n"
     ]
    }
   ],
   "source": [
    "# Solución ejercicio 4.\n",
    "\n",
    "n = 5;\n",
    "\n",
    "for i in range(n):\n",
    "    for j in range(i):\n",
    "        print ('* ', end=\"\")\n",
    "    print('')\n",
    "\n",
    "for i in range(n,0,-1):\n",
    "    for j in range(i):\n",
    "        print('* ', end=\"\")\n",
    "    print('')"
   ]
  },
  {
   "cell_type": "markdown",
   "metadata": {},
   "source": [
    "----"
   ]
  },
  {
   "cell_type": "markdown",
   "metadata": {},
   "source": [
    "#### GUIA DE EJERCICIOS NIVEL 2 - BUCLES WHILE"
   ]
  },
  {
   "cell_type": "markdown",
   "metadata": {},
   "source": [
    "__Ejercicio 1:__\n",
    "\n",
    "* Eribe un programa que ciclicamente pregunte si deseas salir del programa y solo sea posible si usuario digita __Quit__"
   ]
  },
  {
   "cell_type": "code",
   "execution_count": 3,
   "metadata": {
    "scrolled": true
   },
   "outputs": [
    {
     "name": "stdout",
     "output_type": "stream",
     "text": [
      "¿Realmente desea salir?': asd\n",
      "¿Realmente desea salir?': tres\n",
      "¿Realmente desea salir?': quit\n"
     ]
    }
   ],
   "source": [
    "opcion = ''\n",
    "\n",
    "while opcion != 'quit':\n",
    "    opcion = input(\"¿Realmente desea salir?': \")"
   ]
  },
  {
   "cell_type": "markdown",
   "metadata": {},
   "source": [
    "__Ejercicio 2:__\n",
    "    \n",
    "* Utilizando bucles ```While``` , escribe un programa que construya los primeros 15 números de la serie de Bibonacci."
   ]
  },
  {
   "cell_type": "code",
   "execution_count": 31,
   "metadata": {
    "scrolled": true
   },
   "outputs": [
    {
     "name": "stdout",
     "output_type": "stream",
     "text": [
      "0\n",
      "1\n",
      "1\n",
      "2\n",
      "3\n",
      "5\n",
      "8\n",
      "13\n",
      "21\n",
      "34\n",
      "55\n",
      "89\n",
      "144\n",
      "233\n",
      "377\n"
     ]
    }
   ],
   "source": [
    "# Solución ejercicio 3.\n",
    "\n",
    "n1 = 0\n",
    "n2 = 1\n",
    "contador = 0\n",
    "\n",
    "while contador < 15:\n",
    "    print(n1)\n",
    "    \n",
    "    f = n1+n2\n",
    "    n1 = n2\n",
    "    n2 = f\n",
    "    \n",
    "    contador += 1 "
   ]
  },
  {
   "cell_type": "markdown",
   "metadata": {},
   "source": [
    "__Ejercicio 3:__\n",
    "\n",
    "* Escribe un programa que permita calcular el factorial ```<f>``` de un número ```<n>``` ingresado por un número ingresado por el usuario.\n",
    "\n",
    "*__Nota 1:__* Un factorial es el resultado de multiplicar una serie de números naturales de forma descendentes.\n",
    "\n",
    "*__Ejemplo:__* \n",
    "\n",
    "<font size=\"3\">$ 5(4)(3)(2)(1) = 120 $</font>"
   ]
  },
  {
   "cell_type": "code",
   "execution_count": 6,
   "metadata": {},
   "outputs": [
    {
     "name": "stdout",
     "output_type": "stream",
     "text": [
      "Ingrese un número: 7\n",
      "El factorial es:  5040\n"
     ]
    }
   ],
   "source": [
    "# Solución ejercicio 3\n",
    "\n",
    "n = int(input(\"Ingrese un número: \"))\n",
    "f = 1\n",
    "\n",
    "while n > 0:\n",
    "    f *= n\n",
    "    n -= 1\n",
    "\n",
    "print(\"El factorial es: \", f)"
   ]
  },
  {
   "cell_type": "markdown",
   "metadata": {},
   "source": [
    "__Ejercicio 4:__\n",
    "\n",
    "* Escribe una programa que tome una lista de números ```<l>```y quite todos los números impares ```<im>``` de ella.\n"
   ]
  },
  {
   "cell_type": "code",
   "execution_count": 10,
   "metadata": {},
   "outputs": [
    {
     "name": "stdout",
     "output_type": "stream",
     "text": [
      "Lista original:  [1, 2, 3, 4, 5, 6, 7, 8, 9, 0]\n",
      "Lista modificada:  [2, 4, 6, 8, 0]\n"
     ]
    }
   ],
   "source": [
    "# Solución ejercicio 4\n",
    "\n",
    "lista = [1, 2, 3, 4, 5, 6, 7, 8 ,9 ,0]\n",
    "print(\"Lista original: \", lista)\n",
    "\n",
    "i = 0\n",
    "nLista = lista\n",
    "while i in range(0, len(nLista)):\n",
    "    if nLista[i] % 2 != 0:\n",
    "        nLista.pop(i)\n",
    "    else:\n",
    "        i += 1\n",
    "    \n",
    "print(\"Lista modificada: \", nLista)"
   ]
  }
 ],
 "metadata": {
  "kernelspec": {
   "display_name": "Python 3",
   "language": "python",
   "name": "python3"
  },
  "language_info": {
   "codemirror_mode": {
    "name": "ipython",
    "version": 3
   },
   "file_extension": ".py",
   "mimetype": "text/x-python",
   "name": "python",
   "nbconvert_exporter": "python",
   "pygments_lexer": "ipython3",
   "version": "3.7.3"
  }
 },
 "nbformat": 4,
 "nbformat_minor": 2
}
