{
 "cells": [
  {
   "cell_type": "markdown",
   "metadata": {},
   "source": [
    "### MÓDULO 6: LISTAS."
   ]
  },
  {
   "cell_type": "markdown",
   "metadata": {},
   "source": [
    "-----"
   ]
  },
  {
   "cell_type": "markdown",
   "metadata": {},
   "source": [
    "### Consideraciones:\n",
    "\n",
    "\n",
    "1.  __Descripción por niveles:__\n",
    "\n",
    "    a). ```NIVEL 1``` o ```PRINCIPIANTE```: Implica un nivel de dificultad para quienes han apenas comenzado a introducirse con el curso de Python. Pudiendo resolver problemas con 1 o  2 clases o funciones.\n",
    "\n",
    "    b). ```NIVEL 2``` o ```INTERMEDIO```: Implica un nivel de dificultad para quienes apenas han aprendido programación en Python, pero que desde ya tienen un conocmiento previo en programación. El estudiante podrá ser capaz de resolver problemas que involucren 3 o más clases o funciones.\n",
    "\n",
    "    c). ```NIVEL 3``` o ```AVANZADO```: Implica un nivel de dificultad mayor, pudiendo el estudiante resolver los problemas con diferentes técnicas avanzadas y paquetes estandar de python.\n",
    "\n",
    "\n",
    "2. __Plantilla de Problemas__:\n",
    "\n",
    "    a). ```Pregunta```: Representará el enuciado principal con el problema a resolver utilizando Python. \n",
    "\n",
    "    b). ```Solución```: En el siguiente notebook podrás encontrar la solución al planteamiento de la pregunta para que puedas ayudarte a comparar resultados o encontrar una forma diferente de resolver la incognita.\n",
    "\n",
    "    c). ```Pistas:```: En algunos casos, dada la dificultad o solo con el fin de facilitar el desarrollo del ejercicio, se han entregado algunas pistas o formulas necesarias para llevar acabo los ejercicios.\n",
    "    \n",
    "    \n",
    "3. __Notas Importantes__:\n",
    "\n",
    "    a) ```Palabras Destacadas:``` En algunos casos, encontrarás ejercicios cuyo planteamiento cuenta con palabras destacadas como ```<n>``` o ```<c>``` que son utilizadas como variables en la solución del ejercicio, esto fue diseñado de este modo solo para brindarte una ```ayuda visual``` para ```comprender``` de mejor manera la ```solución del problema```. Si no te sientes comodo utilizando las mismas variables ```recuerda que puedes utilizar las tuyas propias``` para llegar al resultado final."
   ]
  },
  {
   "cell_type": "markdown",
   "metadata": {},
   "source": [
    "-----"
   ]
  },
  {
   "cell_type": "markdown",
   "metadata": {},
   "source": [
    "#### GUIA DE EJERCICIOS NIVEL 1"
   ]
  },
  {
   "cell_type": "markdown",
   "metadata": {},
   "source": [
    "__Desarrolle:__\n",
    "\n",
    "* Basada en la siguiente ```lista``` mostrada, realice los siguientes ejercicios:\n",
    "~~~\n",
    "Lista = [matemáticas, ciencias, ingles]\n",
    "~~~"
   ]
  },
  {
   "cell_type": "markdown",
   "metadata": {},
   "source": [
    "__Ejercicio 1:__\n",
    "\n",
    "* Escribe la lista de manera correcta, almacenala en una variable ```<asignaturas>``` e imprimela en pantalla ."
   ]
  },
  {
   "cell_type": "code",
   "execution_count": 10,
   "metadata": {},
   "outputs": [
    {
     "name": "stdout",
     "output_type": "stream",
     "text": [
      "['matemáticas', 'ciencias', 'ingles']\n"
     ]
    }
   ],
   "source": [
    "# Solución ejercicio 1.\n",
    "\n",
    "asignaturas = [\"matemáticas\", \"ciencias\", \"ingles\"]  #Al ser texto o cadenas, deben ir escritas con sus respectivas comillas.\n",
    "\n",
    "print(asignaturas)"
   ]
  },
  {
   "cell_type": "markdown",
   "metadata": {},
   "source": [
    "__Ejercicio 2:__\n",
    "\n",
    "* Indique el ```tipo``` de datos de la lista y del elemento contenido en su ```indice 1```.\n"
   ]
  },
  {
   "cell_type": "code",
   "execution_count": 11,
   "metadata": {},
   "outputs": [
    {
     "name": "stdout",
     "output_type": "stream",
     "text": [
      "Tipo de la lista:  <class 'list'>\n",
      "Tipo de elemento en indice 1:  <class 'str'>\n"
     ]
    }
   ],
   "source": [
    "# Solución ejercicio 2.\n",
    "\n",
    "print(\"Tipo de la lista: \", type(asignaturas))  # Imprimo tipo de asignatura\n",
    "\n",
    "print(\"Tipo de elemento en indice 1: \", type(asignaturas[1])) # Imprimo tipo del elemento en indice 1."
   ]
  },
  {
   "cell_type": "markdown",
   "metadata": {},
   "source": [
    "__Ejercicio 3:__\n",
    "\n",
    "* Escribe un algoritmo que muestre por pantalla el ```primer``` y ```último``` elemento de la lista."
   ]
  },
  {
   "cell_type": "code",
   "execution_count": 12,
   "metadata": {},
   "outputs": [
    {
     "name": "stdout",
     "output_type": "stream",
     "text": [
      "Primer elemento:  matemáticas\n",
      "Ultimo elemento:  ingles\n"
     ]
    }
   ],
   "source": [
    "# Solución ejercicio 3.\n",
    "\n",
    "primero = asignaturas[0] # Asigno el primer elemento de la lista.\n",
    "ultimo = asignaturas[-1] # Asigno el ultimo elemento de la lista.\n",
    "\n",
    "print(\"Primer elemento: \", primero)\n",
    "print(\"Ultimo elemento: \", ultimo)"
   ]
  },
  {
   "cell_type": "markdown",
   "metadata": {},
   "source": [
    "__Ejercicio 4:__\n",
    "\n",
    "* Escribe un programa el ```segundo``` elemento de la lista ```<x>``` forme parte de la siguiente frase:  *Mi curso favorito en UAD es ```<x>```.*\n"
   ]
  },
  {
   "cell_type": "code",
   "execution_count": 13,
   "metadata": {},
   "outputs": [
    {
     "name": "stdout",
     "output_type": "stream",
     "text": [
      "Mi asignatura favorita en UAD es ciencias\n"
     ]
    }
   ],
   "source": [
    "# Solución ejercicio 4.\n",
    "\n",
    "x = asignaturas[1]\n",
    "\n",
    "print(\"Mi asignatura favorita en UAD es\", x)"
   ]
  },
  {
   "cell_type": "markdown",
   "metadata": {},
   "source": [
    "__Ejercicio 5:__\n",
    "\n",
    "* Escribe un algoritmo que permita ```agregar``` una nueva ```asignatura``` a la lista."
   ]
  },
  {
   "cell_type": "code",
   "execution_count": 14,
   "metadata": {},
   "outputs": [
    {
     "name": "stdout",
     "output_type": "stream",
     "text": [
      "Ingrese una nueva asignatura: Frances\n",
      "Resultado:  ['matemáticas', 'ciencias', 'ingles', 'Frances']\n"
     ]
    }
   ],
   "source": [
    "# Solución ejercicio 5.\n",
    "\n",
    "nueva_asignatura = input(\"Ingrese una nueva asignatura: \")\n",
    "\n",
    "asignaturas.append(nueva_asignatura) # Utilizando append() y el contenido exacto a agregar, podremos insertar nuevos elementos a la lista.\n",
    "\n",
    "print(\"Resultado: \", asignaturas)"
   ]
  },
  {
   "cell_type": "markdown",
   "metadata": {},
   "source": [
    "__Ejercicio 6:__\n",
    "\n",
    "* Escribe un algoritmo que elimine la asignatura ```<ingles>``` de la lista. "
   ]
  },
  {
   "cell_type": "code",
   "execution_count": 15,
   "metadata": {},
   "outputs": [
    {
     "name": "stdout",
     "output_type": "stream",
     "text": [
      "Resultado:  ['matemáticas', 'ciencias', 'Frances']\n"
     ]
    }
   ],
   "source": [
    "# Solución ejercicio 6.\n",
    "\n",
    "asignaturas.remove(\"ingles\")  # Utilizando remove() y el contenido exacto de la lista, podremos eliminarla.\n",
    "\n",
    "print(\"Resultado: \", asignaturas)"
   ]
  },
  {
   "cell_type": "markdown",
   "metadata": {},
   "source": [
    "-----"
   ]
  },
  {
   "cell_type": "markdown",
   "metadata": {},
   "source": [
    "#### GUIA DE EJERCICIOS NIVEL 2"
   ]
  },
  {
   "cell_type": "markdown",
   "metadata": {},
   "source": [
    "__Desarrolle:__\n",
    "\n",
    "* Basada en la siguiente ```lista``` mostrada, realice los siguientes ejercicios:\n",
    "~~~\n",
    "lista_1 = [enero, febrero, marso, abril, mayo, junio, julio]\n",
    "~~~"
   ]
  },
  {
   "cell_type": "markdown",
   "metadata": {},
   "source": [
    "__Ejercicio 1:__\n",
    "\n",
    "•\tAsigne la lista anterior a una variable y muestre en pantalla los ```últimos``` cuatro elementos de la lista."
   ]
  },
  {
   "cell_type": "code",
   "execution_count": 7,
   "metadata": {},
   "outputs": [
    {
     "name": "stdout",
     "output_type": "stream",
     "text": [
      "['abril', 'mayo', 'junio', 'julio']\n"
     ]
    }
   ],
   "source": [
    "#Solución ejercicio 1.\n",
    "\n",
    "lista_1 = [\"enero\", \"febrero\", \"marso\", \"abril\", \"mayo\", \"junio\", \"julio\"]\n",
    "\n",
    "print(lista_1[-4:])"
   ]
  },
  {
   "cell_type": "markdown",
   "metadata": {},
   "source": [
    "__Ejercicio 2:__\n",
    "\n",
    "•\tSume el ```largo``` del ```primero``` y del ```último``` elemento de la lista."
   ]
  },
  {
   "cell_type": "code",
   "execution_count": 9,
   "metadata": {},
   "outputs": [
    {
     "name": "stdout",
     "output_type": "stream",
     "text": [
      "Total primer elemento enero: 5\n",
      "Total primer elemento julio: 5\n",
      "La suma del largo de ambos elementos es:  10\n"
     ]
    }
   ],
   "source": [
    "#Solución ejercicio 2.\n",
    "\n",
    "primer = len(lista_1[0])\n",
    "ultimo = len(lista_1[-1])\n",
    "\n",
    "total = primer + ultimo\n",
    "\n",
    "print(f\"Total primer elemento {lista_1[0]}: {primer}\")\n",
    "print(f\"Total primer elemento {lista_1[-1]}: {ultimo}\")\n",
    "print(\"La suma del largo de ambos elementos es: \", total)"
   ]
  },
  {
   "cell_type": "markdown",
   "metadata": {},
   "source": [
    "__Ejercicio 3:__\n",
    "\n",
    "•\tAgregue a la lista los meses de ```Agosto``` y ```Septiembre``` a la lista."
   ]
  },
  {
   "cell_type": "code",
   "execution_count": 11,
   "metadata": {},
   "outputs": [
    {
     "name": "stdout",
     "output_type": "stream",
     "text": [
      "['enero', 'febrero', 'marzo', 'abril', 'mayo', 'junio', 'julio', 'agosto', 'septiembre']\n"
     ]
    }
   ],
   "source": [
    "#Solución ejercicio 3.\n",
    "\n",
    "lista_1.append(\"agosto\")\n",
    "lista_1.append(\"septiembre\")\n",
    "\n",
    "print(lista_1)"
   ]
  },
  {
   "cell_type": "markdown",
   "metadata": {},
   "source": [
    "__Ejercicio 4:__\n",
    "\n",
    "•\tReemplace el valor de ```Marso``` por ```Marzo```."
   ]
  },
  {
   "cell_type": "code",
   "execution_count": 13,
   "metadata": {},
   "outputs": [
    {
     "name": "stdout",
     "output_type": "stream",
     "text": [
      "Elemento cambiado:  marzo\n",
      "Lista actualizada:  ['enero', 'febrero', 'marzo', 'abril', 'mayo', 'junio', 'julio', 'agosto', 'septiembre']\n"
     ]
    }
   ],
   "source": [
    "#Solución ejercicio 4.\n",
    "\n",
    "lista_1[2] == \"marzo\"\n",
    "\n",
    "print(\"Elemento cambiado: \", lista_1[2])\n",
    "print(\"Lista actualizada: \", lista_1)"
   ]
  },
  {
   "cell_type": "markdown",
   "metadata": {},
   "source": [
    "__Ejercicio 5:__\n",
    "\n",
    "•\tReemplace ```Enero``` por una ```lista``` de números del ```1``` al ```5```."
   ]
  },
  {
   "cell_type": "code",
   "execution_count": 16,
   "metadata": {},
   "outputs": [
    {
     "name": "stdout",
     "output_type": "stream",
     "text": [
      "Lista actualizada:  [[1, 2, 3, 4, 5], 'febrero', 'marzo', 'abril', 'mayo', 'junio', 'julio', 'agosto', 'septiembre']\n"
     ]
    }
   ],
   "source": [
    "#Solución ejercicio 5.\n",
    "\n",
    "lista_temporal = list(range(1, 6))\n",
    "\n",
    "lista_1[0] = lista_temporal # reemplazo enero (lista_![0]) por mi nueva lista.\n",
    "\n",
    "print(\"Lista actualizada: \", lista_1)"
   ]
  },
  {
   "cell_type": "markdown",
   "metadata": {},
   "source": [
    "__Ejercicio 6:__\n",
    "\n",
    "•\tAgrega como una nueva lista ```<lista_2>``` los meses faltantes a nuestra lista principal ```<lista_1>``` e imprímela en pantalla: \n",
    "    \n",
    "~~~\n",
    "lista_2 = [ “Octubre”, “Noviembre”, “Diciembre”]\n",
    "~~~"
   ]
  },
  {
   "cell_type": "code",
   "execution_count": 17,
   "metadata": {},
   "outputs": [
    {
     "name": "stdout",
     "output_type": "stream",
     "text": [
      "Lista actualizada:  [[1, 2, 3, 4, 5], 'febrero', 'marzo', 'abril', 'mayo', 'junio', 'julio', 'agosto', 'septiembre', ['octubre', 'noviembre', 'diciembre']]\n"
     ]
    }
   ],
   "source": [
    "#Solución ejercicio 6.\n",
    "\n",
    "lista_2 = [ \"octubre\", \"noviembre\", \"diciembre\"] # creamos lista 2\n",
    "lista_1.append(lista_2) # agregamos el contenido de lista_2 a lista_1\n",
    "\n",
    "print(\"Lista actualizada: \",  lista_1)           "
   ]
  },
  {
   "cell_type": "markdown",
   "metadata": {},
   "source": [
    "__Ejercicio 7:__\n",
    "\n",
    "•\tImprime en pantalla a través del ```índice``` de nuestra lista ```<lista_1>```, el mes de ```noviembre```."
   ]
  },
  {
   "cell_type": "code",
   "execution_count": 22,
   "metadata": {},
   "outputs": [
    {
     "name": "stdout",
     "output_type": "stream",
     "text": [
      "noviembre\n"
     ]
    }
   ],
   "source": [
    "#Solución ejercicio 7.\n",
    "\n",
    "print(lista_1[-1][-2]) # Muestro el penultimo [-2] del último [-1] elemento de mi lista\n",
    "\n",
    "# print(lista_1[9][1]) --> otro modo de escribirlo."
   ]
  }
 ],
 "metadata": {
  "kernelspec": {
   "display_name": "Python 3",
   "language": "python",
   "name": "python3"
  },
  "language_info": {
   "codemirror_mode": {
    "name": "ipython",
    "version": 3
   },
   "file_extension": ".py",
   "mimetype": "text/x-python",
   "name": "python",
   "nbconvert_exporter": "python",
   "pygments_lexer": "ipython3",
   "version": "3.7.3"
  }
 },
 "nbformat": 4,
 "nbformat_minor": 2
}
