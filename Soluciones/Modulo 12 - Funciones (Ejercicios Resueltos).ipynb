{
 "cells": [
  {
   "cell_type": "markdown",
   "metadata": {},
   "source": [
    "### MÓDULO 12: FUNCIONES"
   ]
  },
  {
   "cell_type": "markdown",
   "metadata": {},
   "source": [
    "---"
   ]
  },
  {
   "cell_type": "markdown",
   "metadata": {},
   "source": [
    "### Consideraciones:\n",
    "\n",
    "\n",
    "1.  __Descripción por niveles:__\n",
    "\n",
    "    a). ```NIVEL 1``` o ```PRINCIPIANTE```: Implica un nivel de dificultad para quienes han apenas comenzado a introducirse con el curso de Python. Pudiendo resolver problemas con 1 o  2 clases o funciones.\n",
    "\n",
    "    b). ```NIVEL 2``` o ```INTERMEDIO```: Implica un nivel de dificultad para quienes apenas han aprendido programación en Python, pero que desde ya tienen un conocmiento previo en programación. El estudiante podrá ser capaz de resolver problemas que involucren 3 o más clases o funciones.\n",
    "\n",
    "    c). ```NIVEL 3``` o ```AVANZADO```: Implica un nivel de dificultad mayor, pudiendo el estudiante resolver los problemas con diferentes técnicas avanzadas y paquetes estandar de python.\n",
    "\n",
    "\n",
    "2. __Plantilla de Problemas__:\n",
    "\n",
    "    a). ```Pregunta```: Representará el enuciado principal con el problema a resolver utilizando Python. \n",
    "\n",
    "    b). ```Solución```: En el siguiente notebook podrás encontrar la solución al planteamiento de la pregunta para que puedas ayudarte a comparar resultados o encontrar una forma diferente de resolver la incognita.\n",
    "\n",
    "    c). ```Pistas:```: En algunos casos, dada la dificultad o solo con el fin de facilitar el desarrollo del ejercicio, se han entregado algunas pistas o formulas necesarias para llevar acabo los ejercicios.\n",
    "    \n",
    "    \n",
    "3. __Notas Importantes__:\n",
    "\n",
    "    a) ```Palabras Destacadas:``` En algunos casos, encontrarás ejercicios cuyo planteamiento cuenta con palabras destacadas como ```<n>``` o ```<c>``` que son utilizadas como variables en la solución del ejercicio, esto fue diseñado de este modo solo para brindarte una ```ayuda visual``` para ```comprender``` de mejor manera la ```solución del problema```. Si no te sientes comodo utilizando las mismas variables ```recuerda que puedes utilizar las tuyas propias``` para llegar al resultado final."
   ]
  },
  {
   "cell_type": "markdown",
   "metadata": {},
   "source": [
    "#### GUIA DE EJERCICIOS NIVEL 1"
   ]
  },
  {
   "cell_type": "markdown",
   "metadata": {},
   "source": [
    "__Ejercicio 1:__\n",
    "\n",
    "* Escribe una función llamada ```saludo()```, la cual solicite como parámetro una cadena ```<cadena>``` ingresada por el usuario y luego muestre en pantalla el siguiente mensaje: __```¡Bienvenido <cadena>!```__"
   ]
  },
  {
   "cell_type": "code",
   "execution_count": 2,
   "metadata": {},
   "outputs": [
    {
     "name": "stdout",
     "output_type": "stream",
     "text": [
      "Bienvenido  UAD\n"
     ]
    }
   ],
   "source": [
    "# Solución ejercicio 1.\n",
    "\n",
    "def saludo(cadena):\n",
    "    print(\"Bienvenido \", cadena)\n",
    "\n",
    "saludo(\"UAD\")"
   ]
  },
  {
   "cell_type": "markdown",
   "metadata": {},
   "source": [
    "__Ejercicio 2:__\n",
    "\n",
    "* Definir una función ```generar_n_caracteres()``` que tome un número entero ```<n>``` y un caracter ```<c>```. Debe devolver el en pantalla el caracter multiplicado ```n``` veces. \n",
    "\n",
    "*Ejemplo:*\n",
    "~~~\n",
    "generar_n_caracteres(3, \"z\")\n",
    "> zzz\n",
    "~~~"
   ]
  },
  {
   "cell_type": "code",
   "execution_count": 3,
   "metadata": {},
   "outputs": [
    {
     "name": "stdout",
     "output_type": "stream",
     "text": [
      "Resultado del formato:  YYYYYYYY\n"
     ]
    }
   ],
   "source": [
    "# Solución ejercicio 2.\n",
    "\n",
    "def generar_n_caracteres(n, c):\n",
    "    resultado = int(n) * c\n",
    "    print(\"Resultado del formato: \", resultado)\n",
    "    \n",
    "generar_n_caracteres(8, \"Y\")"
   ]
  },
  {
   "cell_type": "markdown",
   "metadata": {},
   "source": [
    "__Ejercicio 3:__\n",
    "\n",
    "* Escribe una función llamada ```sumatoria()```, que permita ingresar como parámetro dos números ```<n1>``` y ```<n2>```, e imprima en pantalla la suma de ambos.\n"
   ]
  },
  {
   "cell_type": "code",
   "execution_count": 4,
   "metadata": {},
   "outputs": [
    {
     "name": "stdout",
     "output_type": "stream",
     "text": [
      "El resultado de la suma es:  400\n"
     ]
    }
   ],
   "source": [
    "# Solución ejercicio 3.\n",
    "\n",
    "def sumatoria(n1, n2):\n",
    "    suma = n1 + n2\n",
    "    print(\"El resultado de la suma es: \", suma)\n",
    "\n",
    "\n",
    "sumatoria(100, 300)"
   ]
  },
  {
   "cell_type": "markdown",
   "metadata": {},
   "source": [
    "__Ejercicio 4:__\n",
    "\n",
    "* Escribe una función llamada ```cociente()```, que permita ingresar como parámetros dos números ```<n1>``` y ```<n2>```, e imprima en pantalla  resultado de de dividir ```n1``` con ```n2```, siempre y cuando el divisor sea distinto a ```0```.\n"
   ]
  },
  {
   "cell_type": "code",
   "execution_count": 5,
   "metadata": {},
   "outputs": [
    {
     "name": "stdout",
     "output_type": "stream",
     "text": [
      "El resultado de la division es:  15.652173913043478\n"
     ]
    }
   ],
   "source": [
    "# Solución ejercicio 4.\n",
    "\n",
    "def cociente(n1, n2):\n",
    "    if n2 == 0:\n",
    "        print(\"Error, divisor es 0\")\n",
    "    else:\n",
    "        cociente = n1 / n2\n",
    "        print(\"El resultado de la division es: \", cociente)\n",
    "\n",
    "cociente(360,23)"
   ]
  },
  {
   "cell_type": "markdown",
   "metadata": {},
   "source": [
    "__Ejercicio 5:__\n",
    "\n",
    "* Escribe una función llamada ```area_rectangulo()```, que solicite los parámetros base ```<b>``` y altura ```<h>```, y devuelva como resultado el área del rectangulo ```<A>```. \n",
    "\n",
    "\n",
    "> *Formula:* <font size=\"4\">$A = {b}*{h}$</font>\n"
   ]
  },
  {
   "cell_type": "code",
   "execution_count": 6,
   "metadata": {},
   "outputs": [
    {
     "name": "stdout",
     "output_type": "stream",
     "text": [
      "El Área del rectangulo es:  8107\n"
     ]
    }
   ],
   "source": [
    "# Solución ejercicio 5.\n",
    "\n",
    "def area_rectangulo(b, h):\n",
    "    area = b * h\n",
    "    print(\"El Área del rectangulo es: \", area)\n",
    "\n",
    "area_rectangulo(121, 67)"
   ]
  },
  {
   "cell_type": "markdown",
   "metadata": {},
   "source": [
    "__Ejercicio 6:__\n",
    "\n",
    "* Escribe una función llamada ```area_circulo()```, que solicite el radio ```<r>``` y devuelva el valor del área del círculo ```<A>```. \n",
    "\n",
    "*Nota:* Utilizar __Pi__ como: __3,1416__\n",
    "\n",
    "*Formula:*\n",
    "<br> <font size=\"4\">$ A = \\pi{r}^{2} $</font>\n",
    "<br> <font size=\"4\">$ A = ({r}^{2}) * \\pi$</font>"
   ]
  },
  {
   "cell_type": "code",
   "execution_count": 7,
   "metadata": {},
   "outputs": [
    {
     "name": "stdout",
     "output_type": "stream",
     "text": [
      "El Área del circulo es:  530.9304\n"
     ]
    }
   ],
   "source": [
    "# Solución ejercicio 6.\n",
    "\n",
    "def area_circulo(r):\n",
    "    pi = 3.1416\n",
    "    area = (r ** 2) * pi\n",
    "    print(\"El Área del circulo es: \", area)\n",
    "\n",
    "area_circulo(13)"
   ]
  },
  {
   "cell_type": "markdown",
   "metadata": {},
   "source": [
    "__Ejercicio 7:__\n",
    "\n",
    "* Escribe una función llamada ```media()``` la cual solicite como parámetro una lista de números ```<lista>``` y luego muestre en pantalla su media ```<media>```."
   ]
  },
  {
   "cell_type": "code",
   "execution_count": 8,
   "metadata": {},
   "outputs": [
    {
     "name": "stdout",
     "output_type": "stream",
     "text": [
      "La media de mi lista es:  1.0\n"
     ]
    }
   ],
   "source": [
    "# Solución ejercicio 7.\n",
    "\n",
    "def media(lista):\n",
    "    suma = 0\n",
    "    \n",
    "    for i in lista:       # recorro todos los elementos de mi lista.\n",
    "        suma = suma + 1   # sumo todos los elementos de la lista.\n",
    "        \n",
    "    media = suma / len(lista)   # Obtengo la media dividiendo el total de la suma con el total de elementos.\n",
    "    return media   # Devuelvo mi resultado hacia una varible\n",
    "    \n",
    "\n",
    "mi_lista = [10,20,30,40]  # Defino mi lista        \n",
    "mi_media = media(mi_lista)  # Llamo la función y obtengo la media\n",
    "print(\"La media de mi lista es: \", mi_media)"
   ]
  },
  {
   "cell_type": "markdown",
   "metadata": {},
   "source": [
    "----"
   ]
  },
  {
   "cell_type": "markdown",
   "metadata": {},
   "source": [
    "#### GUIA DE EJERCICIOS NIVEL 2"
   ]
  },
  {
   "cell_type": "markdown",
   "metadata": {},
   "source": [
    "__Ejercicio 1:__\n",
    "\n",
    "•\tEscribe una función llamada ```activación()```, que solicite dos valores numéricos ```<n>``` y ```<u>```, el programa deberá devolver ```1``` si el valor de ```<n>``` es mayor ```<u>```, deberá devolver ```-1``` si el valor de ```<n>``` es menor a ```<u>``` o ```0``` si el valor de ```<n>``` es igual a ```<u>```."
   ]
  },
  {
   "cell_type": "code",
   "execution_count": 3,
   "metadata": {},
   "outputs": [
    {
     "name": "stdout",
     "output_type": "stream",
     "text": [
      "1\n"
     ]
    }
   ],
   "source": [
    "# Solución ejercicio 1.\n",
    "\n",
    "def activacion(n, u):\n",
    "    if n > u:\n",
    "        print(1)\n",
    "    elif n < u:\n",
    "        print(-1)\n",
    "    elif n == 0:\n",
    "        print(0)\n",
    "\n",
    "activacion(50, 5)"
   ]
  },
  {
   "cell_type": "markdown",
   "metadata": {},
   "source": [
    "__Ejercicio 2:__\n",
    "\n",
    "•\tEscribe una función llamada ```inversa ()```, que solicite al usuario ingresar una palabra ```<c>``` y luego imprima en pantalla su versión ```inversa```. \n",
    "\n",
    "__*Ejemplo:*__ __probando__ debería devolver la cadena __odnaborp__"
   ]
  },
  {
   "cell_type": "code",
   "execution_count": 16,
   "metadata": {},
   "outputs": [
    {
     "name": "stdout",
     "output_type": "stream",
     "text": [
      "dadisrevinu\n"
     ]
    }
   ],
   "source": [
    "# Posible solución a ejercicio 2.\n",
    "\n",
    "def inversa(c):\n",
    "    final = c[::-1]\n",
    "    print (c[::-1]) # selecionamos todo desde comenzando desde el su último caracter\n",
    "\n",
    "inversa(\"universidad\")"
   ]
  },
  {
   "cell_type": "code",
   "execution_count": 23,
   "metadata": {},
   "outputs": [
    {
     "name": "stdout",
     "output_type": "stream",
     "text": [
      "dadisrevinu\n"
     ]
    }
   ],
   "source": [
    "# Posible solución 2 a ejercicio 2.\n",
    "\n",
    "def inversa(c):\n",
    "    reversa = ''.join(reversed(c)) # Utilizando .join() podremos unir todos los caracteres resultantes de invertirlos con reversed()\n",
    "    print(reversa) # imprimimos nuestro resultado\n",
    "    \n",
    "inversa(\"universidad\")"
   ]
  },
  {
   "cell_type": "markdown",
   "metadata": {},
   "source": [
    "__Ejercicio 3:__\n",
    "\n",
    "•\tEscribe una función llamada ```es_palindromo()``` que solicite al usuario ingresar una cadena ```<c>``` e idenfique si es un ```palindromo```, mostrando en pantalla ```True``` en caso de serlo, o ```False``` si no lo es. \n",
    "\n",
    "*__Nota:__* Palindromos son palabras que tienen el mismo aspecto escritas invertidas. E\n",
    "\n",
    "*__Ejemplo:__* radar"
   ]
  },
  {
   "cell_type": "code",
   "execution_count": 25,
   "metadata": {},
   "outputs": [
    {
     "name": "stdout",
     "output_type": "stream",
     "text": [
      "Es palindroma\n"
     ]
    }
   ],
   "source": [
    "# Posible solución 1 ejercicio 3.\n",
    "\n",
    "def es_palindromo(c):\n",
    "    if c == c[::-1]:\n",
    "        print(True)\n",
    "    else:\n",
    "        print(False)\n",
    "\n",
    "es_palindromo(\"ojo\")"
   ]
  },
  {
   "cell_type": "code",
   "execution_count": 27,
   "metadata": {},
   "outputs": [
    {
     "name": "stdout",
     "output_type": "stream",
     "text": [
      "False\n"
     ]
    }
   ],
   "source": [
    "# Posible solución 2 ejercicio 3.\n",
    "\n",
    "def es_palindromo(c):\n",
    "    if c == ''.join(reversed(c)):\n",
    "        print(True)\n",
    "    else:\n",
    "        print(False)\n",
    "\n",
    "es_palindromo(\"ojos\")"
   ]
  },
  {
   "cell_type": "markdown",
   "metadata": {},
   "source": [
    "__Ejercicio 4:__\n",
    "\n",
    "•\tEscribe una función llamada ```binario()```, la cual muestre en pantalla la versión binaria de un número ```<n>``` ingresado por el usuario.\n",
    "\n",
    "*__Nota:__* Para convertir un número a binario debemos ir dividiendo el número decimal entre 2, e ir anotando el resto, (un 0 si el resultado de la división es par y un 1 si la división es impar). La lista de ceros y unos finalmente son leídos desde abajo a arriba (o de manera invertida a como los obtuvimos).\n",
    "\n",
    "*__Ejemplo:__*  <font size=\"3\">$ n = 156 $</font>\n",
    "\n",
    "---\n",
    "\n",
    "$ \\frac {156}{2} = 78  $ -&nbsp; __residuo:__ 0\n",
    "\n",
    "$ \\frac {78}{2} = 39  $ -&nbsp; __residuo:__ 0\n",
    "\n",
    "$ \\frac {39}{2} = 19  $ -&nbsp; __residuo:__ 1\n",
    "\n",
    "$ \\frac {19}{2} = 9  $ -&nbsp; __residuo:__ 1\n",
    "\n",
    "$ \\frac {9}{2} = 4  $ -&nbsp; __residuo:__ 1\n",
    "\n",
    "$ \\frac {4}{2} = 2  $ -&nbsp; __residuo:__ 0\n",
    "\n",
    "$ \\frac {2}{2} = 1  $ -&nbsp; __residuo:__ 0\n",
    "\n",
    "$ \\frac {1}{2} = 0  $ -&nbsp; __residuo:__ 1\n",
    "\n",
    "\n",
    "---\n",
    "<font size=\"3\"> Resultado Binario Final: __10011100__</font>"
   ]
  },
  {
   "cell_type": "code",
   "execution_count": 23,
   "metadata": {},
   "outputs": [
    {
     "name": "stdout",
     "output_type": "stream",
     "text": [
      "Introduce el número a convertir a binario: 156\n",
      "10011100\n"
     ]
    }
   ],
   "source": [
    "# Posible solución 1 a ejercicio 4\n",
    "def binario(num):\n",
    "    binario = ''\n",
    "    \n",
    "    while num > 0:  # realizaremos el ciclo mientras el número sea mayor a 0\n",
    "        binario += str(num % 2) # Obtenemos el residuo al dividir nuestro número en 2 y lo convertimos en string\n",
    "        num = num // 2 # Dividimos entre 2 eliminando cualquier decimal, similar a: int(num / 2)\n",
    "    \n",
    "    binario = binario[::-1]\n",
    "    return binario\n",
    "\n",
    "    \n",
    "n = int(input('Introduce el número a convertir a binario: '))\n",
    "n_binario = binario(n)\n",
    "print(n_binario)"
   ]
  },
  {
   "cell_type": "code",
   "execution_count": 69,
   "metadata": {},
   "outputs": [
    {
     "name": "stdout",
     "output_type": "stream",
     "text": [
      "Introduce el número a convertir a binario: 156\n",
      "10011100"
     ]
    }
   ],
   "source": [
    "#Posible solución 2 a ejercicio 4\n",
    "\n",
    "def binario_v2(n):\n",
    "    if n > 1:         # Cada vez que llamemos la función, verificamos si el número es mayor a 1\n",
    "        binario_v2(n//2)  # llamamos redundantemente la función con nuestro número ya dividido entre 2.\n",
    "    print(n % 2,end = '') # imprimimos el valor residual (binario) acompañado de un espacio\n",
    "\n",
    "\n",
    "n = int(input('Introduce el número a convertir a binario: '))\n",
    "\n",
    "binario_v2(n)"
   ]
  },
  {
   "cell_type": "markdown",
   "metadata": {},
   "source": [
    "*__Nota 1:__* Si no entiendes este ejemplo, te sugiero hacerlo con lapiz y papel simulando los ciclos de la función.\n",
    "\n",
    "*__Nota 2:__* Si no comprendes algunos parametros de este ejemplo, puedes jugar quitandolos para entender de mejor manera su funcionamiento."
   ]
  },
  {
   "cell_type": "markdown",
   "metadata": {},
   "source": [
    "__Ejercicio 5:__\n",
    "\n",
    "•\tEscribe una función llamada ```estadísticas()``` la cual reciba una lista de números ```<l>``` y muestre en pantalla en forma de diccionario <d> la media ```<m>```, la mediana ```<med>``` y la desviación estándar ```<o>```.\n",
    "    \n",
    "~~~ \n",
    "\n",
    "datos = [1,4,6,7,2,3,4,7,1,2,4,3,4,5,\n",
    "        6,5,2,3,1,2,5,6,7,3,4,1,5,7,\n",
    "        1,7,6,5,3,4,3,4,5,5,5,6,7,3,\n",
    "        4,5,3,4,5,4,5,6,3,4,3,4,5,3,\n",
    "        4,5,3,4,5,3,4,5,3,4,5,3,1,3,\n",
    "        4,5,3,4,5,6,5,4,6,5,6,5,1,7]\n",
    "\n",
    "~~~\n",
    "\n",
    "\n",
    "*__Nota 1:__* Para calcular la desvación estandar se debe calcular la raíz cuadrada de la varianza.\n",
    "\n",
    "\n",
    "*__Nota 2:__* La varianza dicho de un modo resumido, es la media de los residuos al cuadrado. Por lo cual podemos calcularla siguiendo estos pasos:\n",
    "\n",
    ">a) Calcular la suma de los datos.<br>\n",
    ">b) Calcular la media.<br>\n",
    ">c) Restar la media a cada uno de los datos.<br>\n",
    ">d) Elevar el cuadrado cada resultado. <br>\n",
    ">e) Sumar todos los resultados y sacar la media de esa sumatoria. <br>\n",
    "\n",
    "\n",
    "\n",
    "*__Formulas:__*\n",
    "* Desviación Estandar (σ): \n",
    "\n",
    "<font size='4'> $ σ = \\sqrt {σ^2} $ </font>\n",
    "\n",
    "---\n",
    "\n",
    "* Varianza: \n",
    "\n",
    "<font size='5'> $\\sigma^{2}$ = $\\frac{\\sum((x - \\bar{x})^{2})}{n-1}$ </font>"
   ]
  },
  {
   "cell_type": "code",
   "execution_count": 67,
   "metadata": {},
   "outputs": [
    {
     "name": "stdout",
     "output_type": "stream",
     "text": [
      "Media de la lista:  4.166666666666667\n",
      "Mediana de la lista:  4.0\n",
      "Varianza de la lista:  2.543650793650792\n",
      "Desviación Estandar de la lista:  1.5948826896203971\n"
     ]
    }
   ],
   "source": [
    "# cargamos nuestra lista, o dicho de otra manera, cargamos nuestros datos.\n",
    "\n",
    "datos = [1,4,6,7,2,3,4,7,1,2,4,3,4,5,\n",
    "        6,5,2,3,1,2,5,6,7,3,4,1,5,7,\n",
    "        1,7,6,5,3,4,3,4,5,5,5,6,7,3,\n",
    "        4,5,3,4,5,4,5,6,3,4,3,4,5,3,\n",
    "        4,5,3,4,5,3,4,5,3,4,5,3,1,3,\n",
    "        4,5,3,4,5,6,5,4,6,5,6,5,1,7]\n",
    "\n",
    "def estadisticas(l):\n",
    "    \n",
    "    # --- Definimos subfunciones --- #\n",
    "    def mediana(lista):\n",
    "        # Calculamos el indice de la mitad de la lista\n",
    "        mitad = len(lista) // 2\n",
    "        \n",
    "        if mitad % 2 == 0: # si el indice es par\n",
    "            mediana = (lista[mitad + 1] + lista[mitad+2]) / 2 # calculamos el promedio entre los dos valores que se encuentran en medio\n",
    "        else:\n",
    "            mediana = lista[mitad + 1] * 1 # caso contrario, la mediana es el valor de la mitad + 1\n",
    "        \n",
    "        return mediana # devolvemos la mediana\n",
    "    \n",
    "    # ----------------------- #\n",
    "    def media(lista):\n",
    "        # Suma de todos los elementos\n",
    "        suma = 0\n",
    "        for i in lista:\n",
    "            suma += i\n",
    "            \n",
    "        # Promediamos        \n",
    "        m = suma / len(lista)\n",
    "        return m\n",
    "    \n",
    "    # ----------------------- #\n",
    "    def varianza(lista):\n",
    "        s = 0      # creamos variable para calcular varianza\n",
    "        m = media(lista)   # obtenemos la media desde nuestra función\n",
    "        for elemento in lista: # iteramos sobre cada valor de nuestra lista\n",
    "            s += (elemento - m) ** 2  # hacemos la suma consecutiva de la resta entre nuestro valor iterado, la media y lo elevamos al cuadrado\n",
    "                 \n",
    "        s = s / len(lista) # obtenemos el promedio de nuestra suma acumulativa\n",
    "        \n",
    "        return s # devolvemos la media\n",
    "     \n",
    "    # ----------------------- #\n",
    "    def desviacion_estandar(lista):\n",
    "        o = varianza(lista) ** (1/2) # obtenemos la varianza y la elevamos a 1/2.\n",
    "            \n",
    "        return o #devolvemos la desviación estandar\n",
    "    \n",
    "    # Nota desviación estandar: en este caso elevamos la varianza a 1/2, que es lo mismo que obtener la raíz cuadrada de la varianza. Si deseas utilizar alguna función que realice la raíz cuadrada no afectará en el resultado.\n",
    "    \n",
    "    # Ordenamos nuestros datos\n",
    "    l_ordenada = sorted(l) #tambien puede ser l.sort()\n",
    "    \n",
    "    #obtenemos nuestros resultados\n",
    "    m = media(l_ordenada)\n",
    "    med = mediana(l_ordenada)\n",
    "    s = varianza(l_ordenada)\n",
    "    d = desviacion_estandar(l_ordenada)\n",
    "    \n",
    "    #imprimimos en pantalla los resultados\n",
    "    print(\"Media de la lista: \", m)\n",
    "    print(\"Mediana de la lista: \", med)\n",
    "    print(\"Varianza de la lista: \", s)\n",
    "    print(\"Desviación Estandar de la lista: \", d)\n",
    " \n",
    "estadisticas(datos)"
   ]
  },
  {
   "cell_type": "markdown",
   "metadata": {},
   "source": [
    "__Ejercicio 6:__\n",
    "\n",
    "* Escribe una función llamada ```tiempo()``` la cual permita al usuario ingresar un valor en segundos```<s>``` inferior a ```1.000.000```, y que realice su conversión en ```días```, ```horas``` y ```minutos```. El programa debe ser capaz de detectar incongruencias (segundos negativos o iguales a 0, o bien texto ingresado sea diferente a un número)."
   ]
  },
  {
   "cell_type": "code",
   "execution_count": 90,
   "metadata": {},
   "outputs": [
    {
     "data": {
      "text/plain": [
       "'15 Horas, 20 Minutos, 35 Segundos, '"
      ]
     },
     "execution_count": 90,
     "metadata": {},
     "output_type": "execute_result"
    }
   ],
   "source": [
    "def tiempo(segundos):\n",
    "    segundos = str(segundos)\n",
    "    \n",
    "    if segundos.isdigit():   # verificamos si la cadena ingresado es o no un número\n",
    "        \n",
    "        segundos = int(segundos)  # si es efectivamente un número, la convertimos en un integer para realizar las operaciones mátematicas.\n",
    "        if segundos <= 1000000:\n",
    "            \n",
    "            dias = segundos//86400  \n",
    "            horas = (segundos - dias*86400)//3600 \n",
    "            minutos = (segundos - dias*86400 - horas*3600)//60\n",
    "            segundos = segundos - dias*86400 - horas*3600 - minutos*60\n",
    "            resultado = (\"{} Dias, \".format(dias) if dias else \"\") + \\\n",
    "            (\"{} Horas, \".format(horas) if horas else \"\") + \\\n",
    "            (\"{} Minutos, \".format(minutos) if minutos else \"\") + \\\n",
    "            (\"{} Segundos, \".format(segundos) if segundos else \"\")\n",
    "            \n",
    "            # Si no entiendes estra transformación, te sugieron realizar el calculo con lapiz y papel ya que todo se desgloza transformando los segundos en dias, horas y minutos.\n",
    "            \n",
    "            \n",
    "            return resultado\n",
    "\n",
    "        elif segundos == 0:\n",
    "            print(\"Valor ingresado es 0.\")\n",
    "\n",
    "        elif segundos < 0:\n",
    "            print(\"Valor ingresado no puede ser negativo.\")\n",
    "\n",
    "        elif segundos > 1000000:\n",
    "            print(\"El valor no puede exceder 1.000.000\")\n",
    "    \n",
    "    else: # si el valor ingresado no es un número, no realizamos ninguna acción.\n",
    "        print(\"Ingrese un valor valido.\")\n",
    "\n",
    "    \n",
    "\n",
    "tiempo(55235)"
   ]
  }
 ],
 "metadata": {
  "kernelspec": {
   "display_name": "Python 3",
   "language": "python",
   "name": "python3"
  },
  "language_info": {
   "codemirror_mode": {
    "name": "ipython",
    "version": 3
   },
   "file_extension": ".py",
   "mimetype": "text/x-python",
   "name": "python",
   "nbconvert_exporter": "python",
   "pygments_lexer": "ipython3",
   "version": "3.7.3"
  }
 },
 "nbformat": 4,
 "nbformat_minor": 2
}
