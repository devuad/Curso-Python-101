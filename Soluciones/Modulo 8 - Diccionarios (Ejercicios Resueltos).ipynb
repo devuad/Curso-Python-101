{
 "cells": [
  {
   "cell_type": "markdown",
   "metadata": {},
   "source": [
    "### MÓDULO 8: DICCIONARIOS."
   ]
  },
  {
   "cell_type": "markdown",
   "metadata": {},
   "source": [
    "----"
   ]
  },
  {
   "cell_type": "markdown",
   "metadata": {},
   "source": [
    "### Consideraciones:\n",
    "\n",
    "\n",
    "1.  __Descripción por niveles:__\n",
    "\n",
    "    a). ```NIVEL 1``` o ```PRINCIPIANTE```: Implica un nivel de dificultad para quienes han apenas comenzado a introducirse con el curso de Python. Pudiendo resolver problemas con 1 o  2 clases o funciones.\n",
    "\n",
    "    b). ```NIVEL 2``` o ```INTERMEDIO```: Implica un nivel de dificultad para quienes apenas han aprendido programación en Python, pero que desde ya tienen un conocmiento previo en programación. El estudiante podrá ser capaz de resolver problemas que involucren 3 o más clases o funciones.\n",
    "\n",
    "    c). ```NIVEL 3``` o ```AVANZADO```: Implica un nivel de dificultad mayor, pudiendo el estudiante resolver los problemas con diferentes técnicas avanzadas y paquetes estandar de python.\n",
    "\n",
    "\n",
    "2. __Plantilla de Problemas__:\n",
    "\n",
    "    a). ```Pregunta```: Representará el enuciado principal con el problema a resolver utilizando Python. \n",
    "\n",
    "    b). ```Solución```: En el siguiente notebook podrás encontrar la solución al planteamiento de la pregunta para que puedas ayudarte a comparar resultados o encontrar una forma diferente de resolver la incognita.\n",
    "\n",
    "    c). ```Pistas:```: En algunos casos, dada la dificultad o solo con el fin de facilitar el desarrollo del ejercicio, se han entregado algunas pistas o formulas necesarias para llevar acabo los ejercicios.\n",
    "    \n",
    "    \n",
    "3. __Notas Importantes__:\n",
    "\n",
    "    a) ```Palabras Destacadas:``` En algunos casos, encontrarás ejercicios cuyo planteamiento cuenta con palabras destacadas como ```<n>``` o ```<c>``` que son utilizadas como variables en la solución del ejercicio, esto fue diseñado de este modo solo para brindarte una ```ayuda visual``` para ```comprender``` de mejor manera la ```solución del problema```. Si no te sientes comodo utilizando las mismas variables ```recuerda que puedes utilizar las tuyas propias``` para llegar al resultado final."
   ]
  },
  {
   "cell_type": "markdown",
   "metadata": {},
   "source": [
    "#### GUIA DE EJERCICIOS NIVEL 1"
   ]
  },
  {
   "cell_type": "markdown",
   "metadata": {},
   "source": [
    "__Ejercicio 1:__\n",
    "\n",
    "* Crea un ```diccionario``` llamada ```capitales``` la cual contenga al menos ```4 registros``` que deben ser ingresados por el usuario. La ```clave``` corresponerá al país y ```valor``` será la capital correspondiente a dicho país.\n"
   ]
  },
  {
   "cell_type": "code",
   "execution_count": 3,
   "metadata": {},
   "outputs": [],
   "source": [
    "# Solución ejercicio 1.\n",
    "\n",
    "capitales = {   \"Argentina\":\"Buenos Aires\", \n",
    "                \"Francia\":\"Paris\", \n",
    "                \"Brasil\":\"Brasilia\", \n",
    "                \"Canada\":\"Ottawa\" }"
   ]
  },
  {
   "cell_type": "markdown",
   "metadata": {},
   "source": [
    "__Ejercicio 2:__\n",
    "\n",
    "* Imprime en pantalla el ```total de elementos``` del diccionario."
   ]
  },
  {
   "cell_type": "code",
   "execution_count": 5,
   "metadata": {},
   "outputs": [
    {
     "name": "stdout",
     "output_type": "stream",
     "text": [
      "Cantidad de elementos:  4\n"
     ]
    }
   ],
   "source": [
    "# Solución ejercicio 2.\n",
    "\n",
    "cantidad = len(capitales)\n",
    "\n",
    "print(\"Cantidad de elementos: \", cantidad)"
   ]
  },
  {
   "cell_type": "markdown",
   "metadata": {},
   "source": [
    "__Ejercicio 3:__\n",
    "* Imprime en pantalla cada una de las capitales del diccionario ```utilizando las claves``` anteriormente creadas."
   ]
  },
  {
   "cell_type": "code",
   "execution_count": 6,
   "metadata": {},
   "outputs": [
    {
     "name": "stdout",
     "output_type": "stream",
     "text": [
      "Capital de Argentina:  Buenos Aires\n",
      "Capital de Francia:  Paris\n",
      "Capital de Brasil:  Brasilia\n",
      "Capital de Canada:  Ottawa\n"
     ]
    }
   ],
   "source": [
    "# Solución ejercicio 3.\n",
    "\n",
    "print(\"Capital de Argentina: \", capitales.get(\"Argentina\"))\n",
    "print(\"Capital de Francia: \", capitales.get(\"Francia\"))\n",
    "print(\"Capital de Brasil: \", capitales.get(\"Brasil\"))\n",
    "print(\"Capital de Canada: \", capitales.get(\"Canada\"))"
   ]
  },
  {
   "cell_type": "markdown",
   "metadata": {},
   "source": [
    "__Ejercicio 4:__\n",
    "* Crea un algoritmo que solicite al usuario ingresar una nueva capital ```<n_capital>``` teniendo como ```clave``` su correspondiente país ```<n_pais>```."
   ]
  },
  {
   "cell_type": "code",
   "execution_count": 7,
   "metadata": {},
   "outputs": [
    {
     "name": "stdout",
     "output_type": "stream",
     "text": [
      "Ingrese una nueva capital: Quito\n",
      "Ingrese el país asociado a esa capital: Ecuador\n",
      "Resultado: {'Argentina': 'Buenos Aires', 'Francia': 'Paris', 'Brasil': 'Brasilia', 'Canada': 'Ottawa', 'Ecuador': 'Quito'}\n"
     ]
    }
   ],
   "source": [
    "# Solución ejercicio 4.\n",
    "\n",
    "n_capital = input(\"Ingrese una nueva capital: \")\n",
    "n_pais= input(\"Ingrese el país asociado a esa capital: \")\n",
    "\n",
    "#Agregando al diccionario\n",
    "capitales[n_pais] = n_capital\n",
    "\n",
    "print(\"Resultado:\", capitales)"
   ]
  },
  {
   "cell_type": "markdown",
   "metadata": {},
   "source": [
    "__Ejercicio 5:__\n",
    "\n",
    "* Elimina el ```último``` valor del ```diccionario```. "
   ]
  },
  {
   "cell_type": "code",
   "execution_count": 8,
   "metadata": {},
   "outputs": [
    {
     "name": "stdout",
     "output_type": "stream",
     "text": [
      "Resultado: {'Argentina': 'Buenos Aires', 'Francia': 'Paris', 'Brasil': 'Brasilia', 'Canada': 'Ottawa'}\n"
     ]
    }
   ],
   "source": [
    "# Solución ejercicio 5.\n",
    "\n",
    "capitales.popitem() #.popitem() elimina por defecto el último elemento del diccionario.\n",
    "\n",
    "print(\"Resultado:\", capitales)"
   ]
  },
  {
   "cell_type": "markdown",
   "metadata": {},
   "source": [
    "---"
   ]
  },
  {
   "cell_type": "markdown",
   "metadata": {},
   "source": [
    "#### GUIA DE EJERCICIOS NIVEL 2"
   ]
  },
  {
   "cell_type": "markdown",
   "metadata": {},
   "source": [
    "__Desarrolle:__\n",
    "\n",
    "* Basada en el siguiente ```diccionario``` mostrado, realice los siguientes ejercicios:\n",
    "\n",
    "~~~\n",
    "divisas = {'Euro':'€', 'Dollar':'$', 'Yen':'¥',  'Peso', 'Kč!~'}\n",
    "~~~ "
   ]
  },
  {
   "cell_type": "markdown",
   "metadata": {},
   "source": [
    "__Ejercicio 1:__\n",
    "\n",
    "•\tEscribe un algoritmo que permita al usuario ingresar una nueva divisa ```<d>``` al diccionario, cuya ```valor``` será ```£``` y su  ```clave``` será ```Libra``` e imprime en pantalla los cambios realizados en el diccionario."
   ]
  },
  {
   "cell_type": "code",
   "execution_count": 17,
   "metadata": {},
   "outputs": [
    {
     "name": "stdout",
     "output_type": "stream",
     "text": [
      "Ingrese nombre de divisa: libra\n",
      "Ingrese el simbolo de la divisa: £\n",
      "Diccionario de divisas:  {'Euro': '€', 'Dollar': '$', 'yen': '¥', 'Peso': 'Kč!~', 'libra': '£'}\n"
     ]
    }
   ],
   "source": [
    "# Solución ejercicio 1.\n",
    "\n",
    "divisas = {\"Euro\":\"€\", \"Dollar\": \"$\", \"yen\":\"¥\", \"Peso\": \"Kč!~\"}\n",
    "\n",
    "k = input(\"Ingrese nombre de divisa: \")\n",
    "v = input(\"Ingrese el simbolo de la divisa: \")\n",
    "\n",
    "divisas[k] = v\n",
    "\n",
    "print(\"Diccionario de divisas: \", divisas)"
   ]
  },
  {
   "cell_type": "markdown",
   "metadata": {},
   "source": [
    "__Ejercicio 2:__\n",
    "\n",
    "•\tEscribe un algoritmo que permita al usuario corregir el valor de ```Peso``` por el símbolo ```$``` como su respectiva ```clave```."
   ]
  },
  {
   "cell_type": "code",
   "execution_count": 19,
   "metadata": {},
   "outputs": [
    {
     "name": "stdout",
     "output_type": "stream",
     "text": [
      "{'Euro': '€', 'Dollar': '$', 'yen': '¥', 'Peso': '$', 'libra': '£'}\n"
     ]
    }
   ],
   "source": [
    "# Solución ejercicio 2.\n",
    "\n",
    "divisas[\"Peso\"] = \"$\" #verificar siempre que el nombre sea correcto, de lo contario en lugar de modificar el valor, lo creara como uno nuevo al no encontrarlo dentro del diccionario.\n",
    "\n",
    "\n",
    "print(divisas)"
   ]
  }
 ],
 "metadata": {
  "kernelspec": {
   "display_name": "Python 3",
   "language": "python",
   "name": "python3"
  },
  "language_info": {
   "codemirror_mode": {
    "name": "ipython",
    "version": 3
   },
   "file_extension": ".py",
   "mimetype": "text/x-python",
   "name": "python",
   "nbconvert_exporter": "python",
   "pygments_lexer": "ipython3",
   "version": "3.7.3"
  }
 },
 "nbformat": 4,
 "nbformat_minor": 2
}
