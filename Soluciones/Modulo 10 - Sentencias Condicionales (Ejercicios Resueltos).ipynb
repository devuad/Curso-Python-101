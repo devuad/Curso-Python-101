{
 "cells": [
  {
   "cell_type": "markdown",
   "metadata": {},
   "source": [
    "### MÓDULO 10: SENTENCIAS CONDICIONALES"
   ]
  },
  {
   "cell_type": "markdown",
   "metadata": {},
   "source": [
    "-----"
   ]
  },
  {
   "cell_type": "markdown",
   "metadata": {},
   "source": [
    "### Consideraciones:\n",
    "\n",
    "\n",
    "1.  __Descripción por niveles:__\n",
    "\n",
    "    a). ```NIVEL 1``` o ```PRINCIPIANTE```: Implica un nivel de dificultad para quienes han apenas comenzado a introducirse con el curso de Python. Pudiendo resolver problemas con 1 o  2 clases o funciones.\n",
    "\n",
    "    b). ```NIVEL 2``` o ```INTERMEDIO```: Implica un nivel de dificultad para quienes apenas han aprendido programación en Python, pero que desde ya tienen un conocmiento previo en programación. El estudiante podrá ser capaz de resolver problemas que involucren 3 o más clases o funciones.\n",
    "\n",
    "    c). ```NIVEL 3``` o ```AVANZADO```: Implica un nivel de dificultad mayor, pudiendo el estudiante resolver los problemas con diferentes técnicas avanzadas y paquetes estandar de python.\n",
    "\n",
    "\n",
    "2. __Plantilla de Problemas__:\n",
    "\n",
    "    a). ```Pregunta```: Representará el enuciado principal con el problema a resolver utilizando Python. \n",
    "\n",
    "    b). ```Solución```: En el siguiente notebook podrás encontrar la solución al planteamiento de la pregunta para que puedas ayudarte a comparar resultados o encontrar una forma diferente de resolver la incognita.\n",
    "\n",
    "    c). ```Pistas:```: En algunos casos, dada la dificultad o solo con el fin de facilitar el desarrollo del ejercicio, se han entregado algunas pistas o formulas necesarias para llevar acabo los ejercicios.\n",
    "    \n",
    "    \n",
    "3. __Notas Importantes__:\n",
    "\n",
    "    a) ```Palabras Destacadas:``` En algunos casos, encontrarás ejercicios cuyo planteamiento cuenta con palabras destacadas como ```<n>``` o ```<c>``` que son utilizadas como variables en la solución del ejercicio, esto fue diseñado de este modo solo para brindarte una ```ayuda visual``` para ```comprender``` de mejor manera la ```solución del problema```. Si no te sientes comodo utilizando las mismas variables ```recuerda que puedes utilizar las tuyas propias``` para llegar al resultado final."
   ]
  },
  {
   "cell_type": "markdown",
   "metadata": {},
   "source": [
    "#### GUIA DE EJERCICIOS NIVEL 1"
   ]
  },
  {
   "cell_type": "markdown",
   "metadata": {},
   "source": [
    "__Ejercicio 1:__\n",
    "\n",
    "* Escribe un programa que muestre en pantalla cual es el número ```mayor``` de entre dos opciones ```<n1>``` y ```<n2>``` ingresadas por el usuario."
   ]
  },
  {
   "cell_type": "code",
   "execution_count": 1,
   "metadata": {},
   "outputs": [
    {
     "name": "stdout",
     "output_type": "stream",
     "text": [
      "Ingrese un número: 6\n",
      "Ingrese un número: 2\n",
      "El número mayor es:  6\n"
     ]
    }
   ],
   "source": [
    "# Solución ejercicio 1.\n",
    "\n",
    "n1 = int(input(\"Ingrese un número: \"))\n",
    "n2 = int(input(\"Ingrese un número: \"))\n",
    "\n",
    "if n1 > n2:\n",
    "    print(\"El número mayor es: \", n1)\n",
    "else:\n",
    "    print(\"El número mayor es: \", n2)"
   ]
  },
  {
   "cell_type": "markdown",
   "metadata": {},
   "source": [
    "__Ejercicio 2:__\n",
    "\n",
    "* Escribe un programa que permita al usuario ingresar dos números ```<n1>``` y ```<n2>``` y luego muestre en pantalla el ```menor``` de ellos."
   ]
  },
  {
   "cell_type": "code",
   "execution_count": 2,
   "metadata": {},
   "outputs": [
    {
     "name": "stdout",
     "output_type": "stream",
     "text": [
      "Ingrese un número: 8\n",
      "Ingrese un número: 5\n",
      "El número menor es:  5\n"
     ]
    }
   ],
   "source": [
    "# Solución ejercicio 2.\n",
    "\n",
    "n1 = int(input(\"Ingrese un número: \"))\n",
    "n2 = int(input(\"Ingrese un número: \"))\n",
    "\n",
    "if n1 < n2:\n",
    "    print(\"El número menor es: \", n1)\n",
    "else:\n",
    "    print(\"El número menor es: \", n2)"
   ]
  },
  {
   "cell_type": "markdown",
   "metadata": {},
   "source": [
    "__Ejercicio 3:__\n",
    "\n",
    "* Escribe un programa que permita al usuario ingresar dos números ```<n1>``` y ```<n2>``` y luego muestre en pantalla el ```True``` si ambos son iguales o ```False``` si no lo son."
   ]
  },
  {
   "cell_type": "code",
   "execution_count": 3,
   "metadata": {},
   "outputs": [
    {
     "name": "stdout",
     "output_type": "stream",
     "text": [
      "Ingrese un número: 5\n",
      "Ingrese un número: 5\n",
      "True\n"
     ]
    }
   ],
   "source": [
    "# Solución ejercicio 3.\n",
    "\n",
    "n1 = int(input(\"Ingrese un número: \"))\n",
    "n2 = int(input(\"Ingrese un número: \"))\n",
    "\n",
    "if n1 == n2:\n",
    "    print(True)\n",
    "else:\n",
    "    print(False)"
   ]
  },
  {
   "cell_type": "markdown",
   "metadata": {},
   "source": [
    "__Ejercicio 4:__\n",
    "\n",
    "* Escribe un programa que permita al usuario ingresar un número ```<n>``` e imprima ```True``` si el número es par, o ```False``` si es impar."
   ]
  },
  {
   "cell_type": "code",
   "execution_count": 4,
   "metadata": {},
   "outputs": [
    {
     "name": "stdout",
     "output_type": "stream",
     "text": [
      "Ingrese un número: 8\n",
      "True\n"
     ]
    }
   ],
   "source": [
    "# Solución ejercicio 4.\n",
    "\n",
    "n1 = int(input(\"Ingrese un número: \"))\n",
    "\n",
    "if n1 % 2 == 0:\n",
    "    print(True)\n",
    "else:\n",
    "    print(False)"
   ]
  },
  {
   "cell_type": "markdown",
   "metadata": {},
   "source": [
    "----"
   ]
  },
  {
   "cell_type": "markdown",
   "metadata": {},
   "source": [
    "#### GUIA DE EJERCICIOS NIVEL 2"
   ]
  },
  {
   "cell_type": "markdown",
   "metadata": {},
   "source": [
    "__Ejercicio 1:__\n",
    "\n",
    "•\tEscribe un programa que pregunte al usuario su edad ```<e>```y muestre en pantalla si es mayor de edad o no."
   ]
  },
  {
   "cell_type": "code",
   "execution_count": 5,
   "metadata": {},
   "outputs": [
    {
     "name": "stdout",
     "output_type": "stream",
     "text": [
      "Ingrese su edad: 27\n",
      "Eres mayor de edad.\n"
     ]
    }
   ],
   "source": [
    "# Solución ejercicio 1.\n",
    "\n",
    "e = int(input(\"Ingrese su edad: \"))\n",
    "\n",
    "if e >= 18:\n",
    "    print(\"Eres mayor de edad.\")\n",
    "else:\n",
    "    print(\"No eres mayor de edad.\")"
   ]
  },
  {
   "cell_type": "markdown",
   "metadata": {},
   "source": [
    "__Ejercicio 2:__\n",
    "\n",
    "•\tEscribe un programa que permita al usuario ingresar un número ```<n>```, si el número es ```positivo``` se deberá mostrar en pantalla la versión del mismo número en ```negativo```. Y si el número ingresado es ```negativo```, se deberá imprimir en pantalla su versión en ```positivo```."
   ]
  },
  {
   "cell_type": "code",
   "execution_count": 10,
   "metadata": {},
   "outputs": [
    {
     "name": "stdout",
     "output_type": "stream",
     "text": [
      "Ingrese su edad: -2376\n",
      "Su versión positivo es:  2376\n"
     ]
    }
   ],
   "source": [
    "# Solución ejercicio 2.\n",
    "\n",
    "n = int(input(\"Ingrese su edad: \"))\n",
    "\n",
    "if n > 0:\n",
    "    negativo = n * -1\n",
    "    print(\"Su versión negativa es: \", negativo)\n",
    "elif n < 0:\n",
    "    positivo = n * -1\n",
    "    print(\"Su versión positivo es: \", positivo)\n",
    "else:\n",
    "    print(\"El número es 0.\")"
   ]
  },
  {
   "cell_type": "markdown",
   "metadata": {},
   "source": [
    "__Ejercicio 3:__\n",
    "\n",
    "•\tEscribe un programa que permita al usuario ingresar un año ```<a>``` y saber si este es ```bisiesto```.\n",
    "\n",
    "*__Nota:__ Para que un año sea bisiesto debe ser divisible por 0 y no debe ser divisible por 100, excepto que también sea divisible por 400.*"
   ]
  },
  {
   "cell_type": "code",
   "execution_count": 13,
   "metadata": {},
   "outputs": [
    {
     "name": "stdout",
     "output_type": "stream",
     "text": [
      "Ingrese un año: 2020\n",
      "El año es bisiesto.\n"
     ]
    }
   ],
   "source": [
    "# Solución ejercicio 3.\n",
    "\n",
    "a = int(input(\"Ingrese un año: \"))\n",
    "\n",
    "if a % 4 == 0:\n",
    "    if a % 100 == 0:\n",
    "        if a % 400 == 0:\n",
    "            print('El año es bisiesto')\n",
    "        else:\n",
    "            print('El año no es bisiesto')\n",
    "    else:\n",
    "        print('El año es bisiesto.')\n",
    "else:\n",
    "    print('El año no es bisiesto.')"
   ]
  },
  {
   "cell_type": "markdown",
   "metadata": {},
   "source": [
    "__Ejercicio 4:__\n",
    "\n",
    "•\tEscribe un programa que permita al usuario ingresar dos nombres de personas ```<c1>``` y ```<c2>```, luego deberá mostrar en pantalla __Coinciden__ si el nombre de ambos ```comienzan``` con la``` misma letra```, de lo contrario imprimir __No hay coincidencia__. "
   ]
  },
  {
   "cell_type": "code",
   "execution_count": 3,
   "metadata": {},
   "outputs": [
    {
     "name": "stdout",
     "output_type": "stream",
     "text": [
      "Ingrese un nombre: Unificar\n",
      "Ingrese otro nombre: Universidad\n",
      "Coinciden\n"
     ]
    }
   ],
   "source": [
    "# Solución ejercicio 4.\n",
    "\n",
    "c1 = input(\"Ingrese un nombre: \")\n",
    "c2 = input(\"Ingrese otro nombre: \")\n",
    "\n",
    "if c1[0] == c2[0]:\n",
    "    print(\"Coinciden\")\n",
    "else:\n",
    "    print(\"No hay concidencia\")"
   ]
  },
  {
   "cell_type": "markdown",
   "metadata": {},
   "source": [
    "__Ejercicio 5:__\n",
    "\n",
    "•\tEscribe un programa que solicite al usuario una letra ```<c>```, si la letra es una vocal ```<v>``` debe mostrar en pantalla __Es una vocal__, de lo contrario mostrar __No es una vocal__."
   ]
  },
  {
   "cell_type": "code",
   "execution_count": 4,
   "metadata": {},
   "outputs": [
    {
     "name": "stdout",
     "output_type": "stream",
     "text": [
      "Ingrese una letra: y\n",
      "No es una vocal\n"
     ]
    }
   ],
   "source": [
    "# Solución ejercicio 5.\n",
    "\n",
    "c = input(\"Ingrese una letra: \")\n",
    "\n",
    "if c == 'a' or c == 'e' or c == 'i' or c == 'o' or c == 'u':\n",
    "    print(\"Es una vocal\")\n",
    "else:\n",
    "    print(\"No es una vocal\")"
   ]
  },
  {
   "cell_type": "markdown",
   "metadata": {},
   "source": [
    "__Ejercicio 6:__\n",
    "\n",
    "•\tEscriba un programa que solicite al usuario dos palabras ```<c1>``` y ```<c2>```, si las ```ultimas  tres letras``` de cada palabra ```coinciden```, deberá aparecer en pantalla __Riman__. Si coinciden solo las``` dos últimas letras``` deberá aparecer en pantalla __Riman solo un poco__; y si ```no coinciden ninguno``` de los ```últimos caracteres``` deberá aparecer en pantalla __No riman__."
   ]
  },
  {
   "cell_type": "code",
   "execution_count": 11,
   "metadata": {},
   "outputs": [
    {
     "name": "stdout",
     "output_type": "stream",
     "text": [
      "Ingrese un nombre: casa\n",
      "Ingrese otro nombre: cosa\n",
      "Riman solo un poco.\n"
     ]
    }
   ],
   "source": [
    "# Solución ejercicio 6.\n",
    "\n",
    "c1 = input(\"Ingrese un nombre: \")\n",
    "c2 = input(\"Ingrese otro nombre: \")\n",
    "\n",
    "if c1[-3:] == c2[-3:]:\n",
    "    print(\"Riman.\")\n",
    "    \n",
    "elif c1[-2:] == c2[-2:]:\n",
    "    print(\"Riman solo un poco.\")\n",
    "\n",
    "else:\n",
    "    print(\"No riman.\")"
   ]
  }
 ],
 "metadata": {
  "kernelspec": {
   "display_name": "Python 3",
   "language": "python",
   "name": "python3"
  },
  "language_info": {
   "codemirror_mode": {
    "name": "ipython",
    "version": 3
   },
   "file_extension": ".py",
   "mimetype": "text/x-python",
   "name": "python",
   "nbconvert_exporter": "python",
   "pygments_lexer": "ipython3",
   "version": "3.7.3"
  }
 },
 "nbformat": 4,
 "nbformat_minor": 2
}
